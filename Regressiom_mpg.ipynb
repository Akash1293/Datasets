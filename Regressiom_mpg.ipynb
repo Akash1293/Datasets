{
 "cells": [
  {
   "cell_type": "code",
   "execution_count": 1,
   "metadata": {},
   "outputs": [],
   "source": [
    "import pandas as pd\n",
    "import numpy as np\n",
    "from sklearn.linear_model import LinearRegression\n",
    "import scipy.stats as stats\n",
    "from numpy.polynomial.polynomial import polyfit\n",
    "from sklearn.model_selection import train_test_split\n",
    "from sklearn.metrics import r2_score\n",
    "%matplotlib inline\n"
   ]
  },
  {
   "cell_type": "code",
   "execution_count": 2,
   "metadata": {},
   "outputs": [],
   "source": [
    "df1 = pd.read_csv(r'D:\\Regression\\auto-mpg.csv', sep =',')"
   ]
  },
  {
   "cell_type": "code",
   "execution_count": 3,
   "metadata": {},
   "outputs": [
    {
     "data": {
      "text/html": [
       "<div>\n",
       "<style scoped>\n",
       "    .dataframe tbody tr th:only-of-type {\n",
       "        vertical-align: middle;\n",
       "    }\n",
       "\n",
       "    .dataframe tbody tr th {\n",
       "        vertical-align: top;\n",
       "    }\n",
       "\n",
       "    .dataframe thead th {\n",
       "        text-align: right;\n",
       "    }\n",
       "</style>\n",
       "<table border=\"1\" class=\"dataframe\">\n",
       "  <thead>\n",
       "    <tr style=\"text-align: right;\">\n",
       "      <th></th>\n",
       "      <th>mpg</th>\n",
       "      <th>cyl</th>\n",
       "      <th>disp</th>\n",
       "      <th>hp</th>\n",
       "      <th>wt</th>\n",
       "      <th>acc</th>\n",
       "      <th>yr</th>\n",
       "      <th>origin</th>\n",
       "      <th>car name</th>\n",
       "    </tr>\n",
       "  </thead>\n",
       "  <tbody>\n",
       "    <tr>\n",
       "      <th>0</th>\n",
       "      <td>18.0</td>\n",
       "      <td>8</td>\n",
       "      <td>307.0</td>\n",
       "      <td>130</td>\n",
       "      <td>3504</td>\n",
       "      <td>12.0</td>\n",
       "      <td>70</td>\n",
       "      <td>1</td>\n",
       "      <td>chevrolet chevelle malibu</td>\n",
       "    </tr>\n",
       "    <tr>\n",
       "      <th>1</th>\n",
       "      <td>15.0</td>\n",
       "      <td>8</td>\n",
       "      <td>350.0</td>\n",
       "      <td>165</td>\n",
       "      <td>3693</td>\n",
       "      <td>11.5</td>\n",
       "      <td>70</td>\n",
       "      <td>1</td>\n",
       "      <td>buick skylark 320</td>\n",
       "    </tr>\n",
       "    <tr>\n",
       "      <th>2</th>\n",
       "      <td>18.0</td>\n",
       "      <td>8</td>\n",
       "      <td>318.0</td>\n",
       "      <td>150</td>\n",
       "      <td>3436</td>\n",
       "      <td>11.0</td>\n",
       "      <td>70</td>\n",
       "      <td>1</td>\n",
       "      <td>plymouth satellite</td>\n",
       "    </tr>\n",
       "    <tr>\n",
       "      <th>3</th>\n",
       "      <td>16.0</td>\n",
       "      <td>8</td>\n",
       "      <td>304.0</td>\n",
       "      <td>150</td>\n",
       "      <td>3433</td>\n",
       "      <td>12.0</td>\n",
       "      <td>70</td>\n",
       "      <td>1</td>\n",
       "      <td>amc rebel sst</td>\n",
       "    </tr>\n",
       "    <tr>\n",
       "      <th>4</th>\n",
       "      <td>17.0</td>\n",
       "      <td>8</td>\n",
       "      <td>302.0</td>\n",
       "      <td>140</td>\n",
       "      <td>3449</td>\n",
       "      <td>10.5</td>\n",
       "      <td>70</td>\n",
       "      <td>1</td>\n",
       "      <td>ford torino</td>\n",
       "    </tr>\n",
       "  </tbody>\n",
       "</table>\n",
       "</div>"
      ],
      "text/plain": [
       "    mpg  cyl   disp   hp    wt   acc  yr  origin                   car name\n",
       "0  18.0    8  307.0  130  3504  12.0  70       1  chevrolet chevelle malibu\n",
       "1  15.0    8  350.0  165  3693  11.5  70       1          buick skylark 320\n",
       "2  18.0    8  318.0  150  3436  11.0  70       1         plymouth satellite\n",
       "3  16.0    8  304.0  150  3433  12.0  70       1              amc rebel sst\n",
       "4  17.0    8  302.0  140  3449  10.5  70       1                ford torino"
      ]
     },
     "execution_count": 3,
     "metadata": {},
     "output_type": "execute_result"
    }
   ],
   "source": [
    "df1.head()"
   ]
  },
  {
   "cell_type": "code",
   "execution_count": 4,
   "metadata": {},
   "outputs": [
    {
     "name": "stdout",
     "output_type": "stream",
     "text": [
      "<class 'pandas.core.frame.DataFrame'>\n",
      "RangeIndex: 398 entries, 0 to 397\n",
      "Data columns (total 9 columns):\n",
      "mpg         398 non-null float64\n",
      "cyl         398 non-null int64\n",
      "disp        398 non-null float64\n",
      "hp          398 non-null object\n",
      "wt          398 non-null int64\n",
      "acc         398 non-null float64\n",
      "yr          398 non-null int64\n",
      "origin      398 non-null int64\n",
      "car name    398 non-null object\n",
      "dtypes: float64(3), int64(4), object(2)\n",
      "memory usage: 28.1+ KB\n"
     ]
    }
   ],
   "source": [
    "df1.info()"
   ]
  },
  {
   "cell_type": "code",
   "execution_count": 5,
   "metadata": {},
   "outputs": [],
   "source": [
    "df1['hp'] = df1['hp'].replace('?', 0)"
   ]
  },
  {
   "cell_type": "code",
   "execution_count": 6,
   "metadata": {},
   "outputs": [],
   "source": [
    "df1['hp'] = pd.to_numeric(df1['hp'])"
   ]
  },
  {
   "cell_type": "code",
   "execution_count": 7,
   "metadata": {},
   "outputs": [
    {
     "name": "stdout",
     "output_type": "stream",
     "text": [
      "<class 'pandas.core.frame.DataFrame'>\n"
     ]
    }
   ],
   "source": [
    "print(type(df1))"
   ]
  },
  {
   "cell_type": "code",
   "execution_count": 8,
   "metadata": {},
   "outputs": [
    {
     "name": "stdout",
     "output_type": "stream",
     "text": [
      "<class 'pandas.core.frame.DataFrame'>\n",
      "RangeIndex: 398 entries, 0 to 397\n",
      "Data columns (total 9 columns):\n",
      "mpg         398 non-null float64\n",
      "cyl         398 non-null int64\n",
      "disp        398 non-null float64\n",
      "hp          398 non-null int64\n",
      "wt          398 non-null int64\n",
      "acc         398 non-null float64\n",
      "yr          398 non-null int64\n",
      "origin      398 non-null int64\n",
      "car name    398 non-null object\n",
      "dtypes: float64(3), int64(5), object(1)\n",
      "memory usage: 28.1+ KB\n"
     ]
    }
   ],
   "source": [
    "df1.info()"
   ]
  },
  {
   "cell_type": "code",
   "execution_count": 9,
   "metadata": {},
   "outputs": [],
   "source": [
    "X = df1.iloc[:, 1:6]"
   ]
  },
  {
   "cell_type": "code",
   "execution_count": 10,
   "metadata": {},
   "outputs": [
    {
     "data": {
      "text/html": [
       "<div>\n",
       "<style scoped>\n",
       "    .dataframe tbody tr th:only-of-type {\n",
       "        vertical-align: middle;\n",
       "    }\n",
       "\n",
       "    .dataframe tbody tr th {\n",
       "        vertical-align: top;\n",
       "    }\n",
       "\n",
       "    .dataframe thead th {\n",
       "        text-align: right;\n",
       "    }\n",
       "</style>\n",
       "<table border=\"1\" class=\"dataframe\">\n",
       "  <thead>\n",
       "    <tr style=\"text-align: right;\">\n",
       "      <th></th>\n",
       "      <th>cyl</th>\n",
       "      <th>disp</th>\n",
       "      <th>hp</th>\n",
       "      <th>wt</th>\n",
       "      <th>acc</th>\n",
       "    </tr>\n",
       "  </thead>\n",
       "  <tbody>\n",
       "    <tr>\n",
       "      <th>0</th>\n",
       "      <td>8</td>\n",
       "      <td>307.0</td>\n",
       "      <td>130</td>\n",
       "      <td>3504</td>\n",
       "      <td>12.0</td>\n",
       "    </tr>\n",
       "    <tr>\n",
       "      <th>1</th>\n",
       "      <td>8</td>\n",
       "      <td>350.0</td>\n",
       "      <td>165</td>\n",
       "      <td>3693</td>\n",
       "      <td>11.5</td>\n",
       "    </tr>\n",
       "  </tbody>\n",
       "</table>\n",
       "</div>"
      ],
      "text/plain": [
       "   cyl   disp   hp    wt   acc\n",
       "0    8  307.0  130  3504  12.0\n",
       "1    8  350.0  165  3693  11.5"
      ]
     },
     "execution_count": 10,
     "metadata": {},
     "output_type": "execute_result"
    }
   ],
   "source": [
    "X.head(2)"
   ]
  },
  {
   "cell_type": "code",
   "execution_count": 11,
   "metadata": {},
   "outputs": [],
   "source": [
    "y = df1[['mpg']]"
   ]
  },
  {
   "cell_type": "code",
   "execution_count": 12,
   "metadata": {},
   "outputs": [
    {
     "data": {
      "text/html": [
       "<div>\n",
       "<style scoped>\n",
       "    .dataframe tbody tr th:only-of-type {\n",
       "        vertical-align: middle;\n",
       "    }\n",
       "\n",
       "    .dataframe tbody tr th {\n",
       "        vertical-align: top;\n",
       "    }\n",
       "\n",
       "    .dataframe thead th {\n",
       "        text-align: right;\n",
       "    }\n",
       "</style>\n",
       "<table border=\"1\" class=\"dataframe\">\n",
       "  <thead>\n",
       "    <tr style=\"text-align: right;\">\n",
       "      <th></th>\n",
       "      <th>mpg</th>\n",
       "    </tr>\n",
       "  </thead>\n",
       "  <tbody>\n",
       "    <tr>\n",
       "      <th>0</th>\n",
       "      <td>18.0</td>\n",
       "    </tr>\n",
       "    <tr>\n",
       "      <th>1</th>\n",
       "      <td>15.0</td>\n",
       "    </tr>\n",
       "    <tr>\n",
       "      <th>2</th>\n",
       "      <td>18.0</td>\n",
       "    </tr>\n",
       "  </tbody>\n",
       "</table>\n",
       "</div>"
      ],
      "text/plain": [
       "    mpg\n",
       "0  18.0\n",
       "1  15.0\n",
       "2  18.0"
      ]
     },
     "execution_count": 12,
     "metadata": {},
     "output_type": "execute_result"
    }
   ],
   "source": [
    "y.head(3)"
   ]
  },
  {
   "cell_type": "code",
   "execution_count": 13,
   "metadata": {},
   "outputs": [],
   "source": [
    "import statsmodels.api   as sm\n",
    "#X = sm.add_constant(X) # Add an intercept to our model\n",
    "#print(X)"
   ]
  },
  {
   "cell_type": "code",
   "execution_count": 14,
   "metadata": {},
   "outputs": [],
   "source": [
    "x_train, x_test, y_train, y_test = train_test_split(X, y, test_size = 0.3)"
   ]
  },
  {
   "cell_type": "code",
   "execution_count": 15,
   "metadata": {},
   "outputs": [],
   "source": [
    "x_train = np.array(x_train)\n",
    "y_train = np.array(y_train)\n",
    "x_test = np.array(x_test)\n",
    "y_test = np.array(y_test)"
   ]
  },
  {
   "cell_type": "code",
   "execution_count": 30,
   "metadata": {},
   "outputs": [
    {
     "name": "stdout",
     "output_type": "stream",
     "text": [
      "120\n"
     ]
    }
   ],
   "source": [
    "print(len(x_test))"
   ]
  },
  {
   "cell_type": "code",
   "execution_count": 31,
   "metadata": {},
   "outputs": [
    {
     "name": "stdout",
     "output_type": "stream",
     "text": [
      "120\n"
     ]
    }
   ],
   "source": [
    "print(len(y_test))"
   ]
  },
  {
   "cell_type": "code",
   "execution_count": 16,
   "metadata": {},
   "outputs": [
    {
     "data": {
      "image/png": "[encoded data removed]",
      "text/plain": [
       "<Figure size 432x288 with 1 Axes>"
      ]
     },
     "metadata": {
      "needs_background": "light"
     },
     "output_type": "display_data"
    }
   ],
   "source": [
    "import seaborn as sns\n",
    "import matplotlib.pyplot as plt\n",
    "sns.regplot(x = df1.hp, y = df1.mpg, ci = 95)\n",
    "corcoef = np.corrcoef(df1.hp, df1.mpg)[0,1]\n",
    "text_cc = '\\n\\n\\n\\ncorrelation coefficient is %1.4f' %corcoef\n",
    "plt.title(\"hp vs mpg\")\n",
    "plt.suptitle(text_cc)\n",
    "plt.gcf().tight_layout()\n",
    "plt.show()"
   ]
  },
  {
   "cell_type": "code",
   "execution_count": 17,
   "metadata": {},
   "outputs": [
    {
     "data": {
      "image/png": "[encoded data removed]",
      "text/plain": [
       "<Figure size 432x288 with 1 Axes>"
      ]
     },
     "metadata": {
      "needs_background": "light"
     },
     "output_type": "display_data"
    }
   ],
   "source": [
    "import seaborn as sns\n",
    "import matplotlib.pyplot as plt\n",
    "sns.regplot(x = df1.cyl, y = df1.mpg, ci = 95)\n",
    "corcoef = np.corrcoef(df1.cyl, df1.mpg)[0,1]\n",
    "text_cc = '\\n\\n\\n\\ncorrelation coefficient is %1.4f' %corcoef\n",
    "plt.title(\"cyl vs mpg\")\n",
    "plt.suptitle(text_cc)\n",
    "plt.gcf().tight_layout()\n",
    "plt.show()"
   ]
  },
  {
   "cell_type": "code",
   "execution_count": 18,
   "metadata": {},
   "outputs": [
    {
     "data": {
      "image/png": "[encoded data removed]",
      "text/plain": [
       "<Figure size 432x288 with 1 Axes>"
      ]
     },
     "metadata": {
      "needs_background": "light"
     },
     "output_type": "display_data"
    }
   ],
   "source": [
    "import seaborn as sns\n",
    "import matplotlib.pyplot as plt\n",
    "sns.regplot(x = df1.disp, y = df1.mpg, ci = 95)\n",
    "corcoef = np.corrcoef(df1.disp, df1.mpg)[0,1]\n",
    "text_cc = '\\n\\n\\n\\ncorrelation coefficient is %1.4f' %corcoef\n",
    "plt.title(\"disp vs mpg\")\n",
    "plt.suptitle(text_cc)\n",
    "plt.gcf().tight_layout()\n",
    "plt.show()"
   ]
  },
  {
   "cell_type": "code",
   "execution_count": 19,
   "metadata": {},
   "outputs": [
    {
     "data": {
      "image/png": "[encoded data removed]",
      "text/plain": [
       "<Figure size 432x288 with 1 Axes>"
      ]
     },
     "metadata": {
      "needs_background": "light"
     },
     "output_type": "display_data"
    }
   ],
   "source": [
    "import seaborn as sns\n",
    "import matplotlib.pyplot as plt\n",
    "sns.regplot(x = df1.wt, y = df1.mpg, ci = 95)\n",
    "corcoef = np.corrcoef(df1.wt, df1.mpg)[0,1]\n",
    "text_cc = '\\n\\n\\n\\ncorrelation coefficient is %1.4f' %corcoef\n",
    "plt.title(\"wt vs mpg\")\n",
    "plt.suptitle(text_cc)\n",
    "plt.gcf().tight_layout()\n",
    "plt.show()"
   ]
  },
  {
   "cell_type": "code",
   "execution_count": 20,
   "metadata": {},
   "outputs": [
    {
     "data": {
      "image/png": "[encoded data removed]",
      "text/plain": [
       "<Figure size 432x288 with 1 Axes>"
      ]
     },
     "metadata": {
      "needs_background": "light"
     },
     "output_type": "display_data"
    }
   ],
   "source": [
    "import seaborn as sns\n",
    "import matplotlib.pyplot as plt\n",
    "sns.regplot(x = df1.acc, y = df1.mpg, ci = 95)\n",
    "corcoef = np.corrcoef(df1.acc, df1.mpg)[0,1]\n",
    "text_cc = '\\n\\n\\n\\ncorrelation coefficient is %1.4f' %corcoef\n",
    "plt.title(\"acc vs mpg\")\n",
    "plt.suptitle(text_cc)\n",
    "plt.gcf().tight_layout()\n",
    "plt.show()"
   ]
  },
  {
   "cell_type": "code",
   "execution_count": 21,
   "metadata": {},
   "outputs": [],
   "source": [
    "X1 = X.iloc[:, 0:4]"
   ]
  },
  {
   "cell_type": "code",
   "execution_count": 22,
   "metadata": {},
   "outputs": [
    {
     "data": {
      "text/html": [
       "<div>\n",
       "<style scoped>\n",
       "    .dataframe tbody tr th:only-of-type {\n",
       "        vertical-align: middle;\n",
       "    }\n",
       "\n",
       "    .dataframe tbody tr th {\n",
       "        vertical-align: top;\n",
       "    }\n",
       "\n",
       "    .dataframe thead th {\n",
       "        text-align: right;\n",
       "    }\n",
       "</style>\n",
       "<table border=\"1\" class=\"dataframe\">\n",
       "  <thead>\n",
       "    <tr style=\"text-align: right;\">\n",
       "      <th></th>\n",
       "      <th>cyl</th>\n",
       "      <th>disp</th>\n",
       "      <th>hp</th>\n",
       "      <th>wt</th>\n",
       "    </tr>\n",
       "  </thead>\n",
       "  <tbody>\n",
       "    <tr>\n",
       "      <th>0</th>\n",
       "      <td>8</td>\n",
       "      <td>307.0</td>\n",
       "      <td>130</td>\n",
       "      <td>3504</td>\n",
       "    </tr>\n",
       "    <tr>\n",
       "      <th>1</th>\n",
       "      <td>8</td>\n",
       "      <td>350.0</td>\n",
       "      <td>165</td>\n",
       "      <td>3693</td>\n",
       "    </tr>\n",
       "    <tr>\n",
       "      <th>2</th>\n",
       "      <td>8</td>\n",
       "      <td>318.0</td>\n",
       "      <td>150</td>\n",
       "      <td>3436</td>\n",
       "    </tr>\n",
       "    <tr>\n",
       "      <th>3</th>\n",
       "      <td>8</td>\n",
       "      <td>304.0</td>\n",
       "      <td>150</td>\n",
       "      <td>3433</td>\n",
       "    </tr>\n",
       "    <tr>\n",
       "      <th>4</th>\n",
       "      <td>8</td>\n",
       "      <td>302.0</td>\n",
       "      <td>140</td>\n",
       "      <td>3449</td>\n",
       "    </tr>\n",
       "  </tbody>\n",
       "</table>\n",
       "</div>"
      ],
      "text/plain": [
       "   cyl   disp   hp    wt\n",
       "0    8  307.0  130  3504\n",
       "1    8  350.0  165  3693\n",
       "2    8  318.0  150  3436\n",
       "3    8  304.0  150  3433\n",
       "4    8  302.0  140  3449"
      ]
     },
     "execution_count": 22,
     "metadata": {},
     "output_type": "execute_result"
    }
   ],
   "source": [
    "X1.head()"
   ]
  },
  {
   "cell_type": "code",
   "execution_count": 23,
   "metadata": {},
   "outputs": [],
   "source": [
    "#import statsmodels.api as sm\n",
    "#X2 = sm.add_constant(X)\n",
    "#est = sm.OLS(y, X2)\n",
    "#est2 = est.fit()\n",
    "#print(est2.summary())"
   ]
  },
  {
   "cell_type": "code",
   "execution_count": 25,
   "metadata": {},
   "outputs": [],
   "source": [
    "regr = LinearRegression()"
   ]
  },
  {
   "cell_type": "code",
   "execution_count": 26,
   "metadata": {},
   "outputs": [
    {
     "data": {
      "text/plain": [
       "LinearRegression(copy_X=True, fit_intercept=True, n_jobs=None,\n",
       "         normalize=False)"
      ]
     },
     "execution_count": 26,
     "metadata": {},
     "output_type": "execute_result"
    }
   ],
   "source": [
    "regr.fit(x_train, y_train)"
   ]
  },
  {
   "cell_type": "code",
   "execution_count": 27,
   "metadata": {},
   "outputs": [],
   "source": [
    "y_pred = regr.predict(x_test)"
   ]
  },
  {
   "cell_type": "code",
   "execution_count": 32,
   "metadata": {},
   "outputs": [
    {
     "data": {
      "text/plain": [
       "(120, 5)"
      ]
     },
     "execution_count": 32,
     "metadata": {},
     "output_type": "execute_result"
    }
   ],
   "source": [
    "x_test.shape"
   ]
  },
  {
   "cell_type": "code",
   "execution_count": 33,
   "metadata": {},
   "outputs": [
    {
     "data": {
      "text/plain": [
       "(120, 1)"
      ]
     },
     "execution_count": 33,
     "metadata": {},
     "output_type": "execute_result"
    }
   ],
   "source": [
    "y_test.shape"
   ]
  },
  {
   "cell_type": "code",
   "execution_count": 34,
   "metadata": {},
   "outputs": [
    {
     "name": "stdout",
     "output_type": "stream",
     "text": [
      "Coefficients: \n",
      " [[-0.43651203 -0.00530875 -0.01385248 -0.0057168   0.03886048]]\n",
      "Mean squared error: 18.49\n",
      "Variance score: 0.72\n"
     ]
    }
   ],
   "source": [
    "from sklearn.metrics import mean_squared_error, r2_score\n",
    "print('Coefficients: \\n', regr.coef_)\n",
    "# The mean squared error\n",
    "print(\"Mean squared error: %.2f\"\n",
    "      % mean_squared_error(y_test, y_pred))\n",
    "# Explained variance score: 1 is perfect prediction\n",
    "print('Variance score: %.2f' % r2_score(y_test, y_pred))\n",
    "\n"
   ]
  },
  {
   "cell_type": "code",
   "execution_count": 47,
   "metadata": {},
   "outputs": [
    {
     "name": "stdout",
     "output_type": "stream",
     "text": [
      "[44.60072817]\n"
     ]
    }
   ],
   "source": [
    "#Intercept_result = ('Intercept: ', regr.intercept_)\n",
    "print(regr.intercept_)"
   ]
  },
  {
   "cell_type": "code",
   "execution_count": null,
   "metadata": {},
   "outputs": [],
   "source": [
    "# Plot outputs\n",
    "#plt.scatter(x_test, y_test,  color='black')\n",
    "#plt.plot(x_test, y_pred, color='blue', linewidth=3)\n",
    "\n",
    "#plt.xticks(())\n",
    "#plt.yticks(())\n",
    "\n",
    "#plt.show()"
   ]
  },
  {
   "cell_type": "code",
   "execution_count": 43,
   "metadata": {},
   "outputs": [
    {
     "data": {
      "image/png": "[encoded data removed]",
      "text/plain": [
       "<Figure size 576x396 with 2 Axes>"
      ]
     },
     "metadata": {},
     "output_type": "display_data"
    }
   ],
   "source": [
    "from sklearn.linear_model import Ridge\n",
    "from yellowbrick.regressor import ResidualsPlot\n",
    "\n",
    "print(regr.intercept_)\n",
    "# Instantiate the linear model and visualizer\n",
    "ridge = Ridge()\n",
    "visualizer = ResidualsPlot(ridge)\n",
    "\n",
    "visualizer.fit(x_train, y_train)  # Fit the training data to the model\n",
    "visualizer.score(x_test, y_test)  # Evaluate the model on the test data\n",
    "visualizer.poof()  "
   ]
  },
  {
   "cell_type": "code",
   "execution_count": 44,
   "metadata": {},
   "outputs": [
    {
     "name": "stdout",
     "output_type": "stream",
     "text": [
      "SSE = SST =  (              mpg\n",
      "0     9509.986242\n",
      "1    14583.396431\n",
      "2     9509.986242\n",
      "3    12652.259702\n",
      "4    10961.122972\n",
      "5    14583.396431\n",
      "6    16754.533161\n",
      "7    16754.533161\n",
      "8    16754.533161\n",
      "9    14583.396431\n",
      "10   14583.396431\n",
      "11   16754.533161\n",
      "12   14583.396431\n",
      "13   16754.533161\n",
      "14    5843.165862\n",
      "15    6105.439322\n",
      "16    9509.986242\n",
      "17    6596.576052\n",
      "18    7249.755672\n",
      "19    6540.892402\n",
      "20    6072.029132\n",
      "21    5843.165862\n",
      "22    6072.029132\n",
      "23    6540.892402\n",
      "24    6596.576052\n",
      "25   27839.080081\n",
      "26   27839.080081\n",
      "27   24707.943351\n",
      "28   31210.216811\n",
      "29    7249.755672\n",
      "..            ...\n",
      "368   7249.755672\n",
      "369  18931.798562\n",
      "370  12485.208752\n",
      "371   9387.482212\n",
      "372   7249.755672\n",
      "373   5843.165862\n",
      "374   5854.302592\n",
      "375  24429.525102\n",
      "376  27538.388372\n",
      "377  12485.208752\n",
      "378  30887.251642\n",
      "379  24429.525102\n",
      "380  24429.525102\n",
      "381  24429.525102\n",
      "382  18931.798562\n",
      "383  30887.251642\n",
      "384  14394.072022\n",
      "385  30887.251642\n",
      "386   6072.029132\n",
      "387  30887.251642\n",
      "388   6540.892402\n",
      "389   6105.439322\n",
      "390  14394.072022\n",
      "391  24429.525102\n",
      "392   7249.755672\n",
      "393   7249.755672\n",
      "394  56020.431262\n",
      "395  14394.072022\n",
      "396   8198.618942\n",
      "397  12485.208752\n",
      "\n",
      "[398 rows x 1 columns],               mpg\n",
      "0     3649.261665\n",
      "1     8699.754127\n",
      "2     3649.261665\n",
      "3     6776.256640\n",
      "4     5092.759153\n",
      "5     8699.754127\n",
      "6    10863.251615\n",
      "7    10863.251615\n",
      "8    10863.251615\n",
      "9     8699.754127\n",
      "10    8699.754127\n",
      "11   10863.251615\n",
      "12    8699.754127\n",
      "13   10863.251615\n",
      "14      28.276740\n",
      "15     275.271715\n",
      "16    3649.261665\n",
      "17     758.769203\n",
      "18    1457.784278\n",
      "19     741.281766\n",
      "20     264.779253\n",
      "21      28.276740\n",
      "22     264.779253\n",
      "23     741.281766\n",
      "24     758.769203\n",
      "25   21917.241565\n",
      "26   21917.241565\n",
      "27   18793.744077\n",
      "28   25280.739052\n",
      "29    1457.784278\n",
      "..            ...\n",
      "368   1457.784278\n",
      "369  13193.301866\n",
      "370   6723.794328\n",
      "371   3610.789303\n",
      "372   1457.784278\n",
      "373     28.276740\n",
      "374     31.774228\n",
      "375  18706.306891\n",
      "376  21822.809404\n",
      "377   6723.794328\n",
      "378  25179.311916\n",
      "379  18706.306891\n",
      "380  18706.306891\n",
      "381  18706.306891\n",
      "382  13193.301866\n",
      "383  25179.311916\n",
      "384   8640.296841\n",
      "385  25179.311916\n",
      "386    264.779253\n",
      "387  25179.311916\n",
      "388    741.281766\n",
      "389    275.271715\n",
      "390   8640.296841\n",
      "391  18706.306891\n",
      "392   1457.784278\n",
      "393   1457.784278\n",
      "394  50358.326992\n",
      "395   8640.296841\n",
      "396   2414.286791\n",
      "397   6723.794328\n",
      "\n",
      "[398 rows x 1 columns])\n",
      "The required r value is             mpg\n",
      "0     -1.6060\n",
      "1     -0.6763\n",
      "2     -1.6060\n",
      "3     -0.8671\n",
      "4     -1.1523\n",
      "5     -0.6763\n",
      "6     -0.5423\n",
      "7     -0.5423\n",
      "8     -0.5423\n",
      "9     -0.6763\n",
      "10    -0.6763\n",
      "11    -0.5423\n",
      "12    -0.6763\n",
      "13    -0.5423\n",
      "14  -205.6421\n",
      "15   -21.1797\n",
      "16    -1.6060\n",
      "17    -7.6938\n",
      "18    -3.9731\n",
      "19    -7.8238\n",
      "20   -21.9324\n",
      "21  -205.6421\n",
      "22   -21.9324\n",
      "23    -7.8238\n",
      "24    -7.6938\n",
      "25    -0.2702\n",
      "26    -0.2702\n",
      "27    -0.3147\n",
      "28    -0.2345\n",
      "29    -3.9731\n",
      "..        ...\n",
      "368   -3.9731\n",
      "369   -0.4350\n",
      "370   -0.8569\n",
      "371   -1.5998\n",
      "372   -3.9731\n",
      "373 -205.6421\n",
      "374 -183.2469\n",
      "375   -0.3060\n",
      "376   -0.2619\n",
      "377   -0.8569\n",
      "378   -0.2267\n",
      "379   -0.3060\n",
      "380   -0.3060\n",
      "381   -0.3060\n",
      "382   -0.4350\n",
      "383   -0.2267\n",
      "384   -0.6659\n",
      "385   -0.2267\n",
      "386  -21.9324\n",
      "387   -0.2267\n",
      "388   -7.8238\n",
      "389  -21.1797\n",
      "390   -0.6659\n",
      "391   -0.3060\n",
      "392   -3.9731\n",
      "393   -3.9731\n",
      "394   -0.1124\n",
      "395   -0.6659\n",
      "396   -2.3959\n",
      "397   -0.8569\n",
      "\n",
      "[398 rows x 1 columns]\n"
     ]
    }
   ],
   "source": [
    "SSE = 0\n",
    "SST = 0\n",
    "for i in range(len(y_pred)):\n",
    "    SSE += (y_pred[i] - y)**2\n",
    "    \n",
    "yMean = np.mean(y)\n",
    "for i in range(len(y_pred)):\n",
    "    SST += (y - yMean)**2\n",
    "    \n",
    "print('SSE = SST = ' , (SSE, SST))\n",
    "\n",
    "rsq = np.round(1 - (SSE/SST), 4)\n",
    "print(\"The required r value is  \" ,rsq)"
   ]
  },
  {
   "cell_type": "code",
   "execution_count": 33,
   "metadata": {},
   "outputs": [],
   "source": [
    "import pandas as pd\n",
    "df2 = pd.read_csv(r'D:\\Regression\\insurance.csv', sep = ',')"
   ]
  },
  {
   "cell_type": "code",
   "execution_count": 34,
   "metadata": {},
   "outputs": [
    {
     "data": {
      "text/html": [
       "<div>\n",
       "<style scoped>\n",
       "    .dataframe tbody tr th:only-of-type {\n",
       "        vertical-align: middle;\n",
       "    }\n",
       "\n",
       "    .dataframe tbody tr th {\n",
       "        vertical-align: top;\n",
       "    }\n",
       "\n",
       "    .dataframe thead th {\n",
       "        text-align: right;\n",
       "    }\n",
       "</style>\n",
       "<table border=\"1\" class=\"dataframe\">\n",
       "  <thead>\n",
       "    <tr style=\"text-align: right;\">\n",
       "      <th></th>\n",
       "      <th>age</th>\n",
       "      <th>sex</th>\n",
       "      <th>bmi</th>\n",
       "      <th>children</th>\n",
       "      <th>smoker</th>\n",
       "      <th>region</th>\n",
       "      <th>charges</th>\n",
       "    </tr>\n",
       "  </thead>\n",
       "  <tbody>\n",
       "    <tr>\n",
       "      <th>0</th>\n",
       "      <td>19</td>\n",
       "      <td>female</td>\n",
       "      <td>27.900</td>\n",
       "      <td>0</td>\n",
       "      <td>yes</td>\n",
       "      <td>southwest</td>\n",
       "      <td>16884.92400</td>\n",
       "    </tr>\n",
       "    <tr>\n",
       "      <th>1</th>\n",
       "      <td>18</td>\n",
       "      <td>male</td>\n",
       "      <td>33.770</td>\n",
       "      <td>1</td>\n",
       "      <td>no</td>\n",
       "      <td>southeast</td>\n",
       "      <td>1725.55230</td>\n",
       "    </tr>\n",
       "    <tr>\n",
       "      <th>2</th>\n",
       "      <td>28</td>\n",
       "      <td>male</td>\n",
       "      <td>33.000</td>\n",
       "      <td>3</td>\n",
       "      <td>no</td>\n",
       "      <td>southeast</td>\n",
       "      <td>4449.46200</td>\n",
       "    </tr>\n",
       "    <tr>\n",
       "      <th>3</th>\n",
       "      <td>33</td>\n",
       "      <td>male</td>\n",
       "      <td>22.705</td>\n",
       "      <td>0</td>\n",
       "      <td>no</td>\n",
       "      <td>northwest</td>\n",
       "      <td>21984.47061</td>\n",
       "    </tr>\n",
       "    <tr>\n",
       "      <th>4</th>\n",
       "      <td>32</td>\n",
       "      <td>male</td>\n",
       "      <td>28.880</td>\n",
       "      <td>0</td>\n",
       "      <td>no</td>\n",
       "      <td>northwest</td>\n",
       "      <td>3866.85520</td>\n",
       "    </tr>\n",
       "  </tbody>\n",
       "</table>\n",
       "</div>"
      ],
      "text/plain": [
       "   age     sex     bmi  children smoker     region      charges\n",
       "0   19  female  27.900         0    yes  southwest  16884.92400\n",
       "1   18    male  33.770         1     no  southeast   1725.55230\n",
       "2   28    male  33.000         3     no  southeast   4449.46200\n",
       "3   33    male  22.705         0     no  northwest  21984.47061\n",
       "4   32    male  28.880         0     no  northwest   3866.85520"
      ]
     },
     "execution_count": 34,
     "metadata": {},
     "output_type": "execute_result"
    }
   ],
   "source": [
    "df2.head()"
   ]
  },
  {
   "cell_type": "code",
   "execution_count": 35,
   "metadata": {},
   "outputs": [
    {
     "data": {
      "text/plain": [
       "southeast    364\n",
       "southwest    325\n",
       "northwest    325\n",
       "northeast    324\n",
       "Name: region, dtype: int64"
      ]
     },
     "execution_count": 35,
     "metadata": {},
     "output_type": "execute_result"
    }
   ],
   "source": [
    "df2.region.value_counts()"
   ]
  },
  {
   "cell_type": "code",
   "execution_count": 36,
   "metadata": {},
   "outputs": [
    {
     "name": "stdout",
     "output_type": "stream",
     "text": [
      "<class 'pandas.core.frame.DataFrame'>\n",
      "RangeIndex: 1338 entries, 0 to 1337\n",
      "Data columns (total 7 columns):\n",
      "age         1338 non-null int64\n",
      "sex         1338 non-null object\n",
      "bmi         1338 non-null float64\n",
      "children    1338 non-null int64\n",
      "smoker      1338 non-null object\n",
      "region      1338 non-null object\n",
      "charges     1338 non-null float64\n",
      "dtypes: float64(2), int64(2), object(3)\n",
      "memory usage: 73.2+ KB\n"
     ]
    }
   ],
   "source": [
    "df2.info()"
   ]
  },
  {
   "cell_type": "code",
   "execution_count": 37,
   "metadata": {},
   "outputs": [
    {
     "data": {
      "text/plain": [
       "age         0\n",
       "sex         0\n",
       "bmi         0\n",
       "children    0\n",
       "smoker      0\n",
       "region      0\n",
       "charges     0\n",
       "dtype: int64"
      ]
     },
     "execution_count": 37,
     "metadata": {},
     "output_type": "execute_result"
    }
   ],
   "source": [
    "df2.isnull().sum()"
   ]
  },
  {
   "cell_type": "code",
   "execution_count": 38,
   "metadata": {},
   "outputs": [],
   "source": [
    "df2['sex'], sex = pd.factorize(df2['sex'])"
   ]
  },
  {
   "cell_type": "code",
   "execution_count": 39,
   "metadata": {},
   "outputs": [],
   "source": [
    "df2['smoker'], smoker = pd.factorize(df2['smoker'])"
   ]
  },
  {
   "cell_type": "code",
   "execution_count": 40,
   "metadata": {},
   "outputs": [],
   "source": [
    "df2['region'], region = pd.factorize(df2['region'])"
   ]
  },
  {
   "cell_type": "code",
   "execution_count": 41,
   "metadata": {},
   "outputs": [
    {
     "name": "stdout",
     "output_type": "stream",
     "text": [
      "<class 'pandas.core.frame.DataFrame'>\n",
      "RangeIndex: 1338 entries, 0 to 1337\n",
      "Data columns (total 7 columns):\n",
      "age         1338 non-null int64\n",
      "sex         1338 non-null int64\n",
      "bmi         1338 non-null float64\n",
      "children    1338 non-null int64\n",
      "smoker      1338 non-null int64\n",
      "region      1338 non-null int64\n",
      "charges     1338 non-null float64\n",
      "dtypes: float64(2), int64(5)\n",
      "memory usage: 73.2 KB\n"
     ]
    }
   ],
   "source": [
    "df2.info()"
   ]
  },
  {
   "cell_type": "code",
   "execution_count": 42,
   "metadata": {},
   "outputs": [],
   "source": [
    "X = df2.iloc[:, 0:5]\n",
    "y = df2.iloc[:, 6]"
   ]
  },
  {
   "cell_type": "code",
   "execution_count": null,
   "metadata": {},
   "outputs": [],
   "source": []
  },
  {
   "cell_type": "code",
   "execution_count": null,
   "metadata": {},
   "outputs": [],
   "source": []
  },
  {
   "cell_type": "code",
   "execution_count": 43,
   "metadata": {},
   "outputs": [
    {
     "data": {
      "text/html": [
       "<div>\n",
       "<style scoped>\n",
       "    .dataframe tbody tr th:only-of-type {\n",
       "        vertical-align: middle;\n",
       "    }\n",
       "\n",
       "    .dataframe tbody tr th {\n",
       "        vertical-align: top;\n",
       "    }\n",
       "\n",
       "    .dataframe thead th {\n",
       "        text-align: right;\n",
       "    }\n",
       "</style>\n",
       "<table border=\"1\" class=\"dataframe\">\n",
       "  <thead>\n",
       "    <tr style=\"text-align: right;\">\n",
       "      <th></th>\n",
       "      <th>age</th>\n",
       "      <th>sex</th>\n",
       "      <th>bmi</th>\n",
       "      <th>children</th>\n",
       "      <th>smoker</th>\n",
       "      <th>region</th>\n",
       "      <th>charges</th>\n",
       "    </tr>\n",
       "  </thead>\n",
       "  <tbody>\n",
       "    <tr>\n",
       "      <th>0</th>\n",
       "      <td>19</td>\n",
       "      <td>0</td>\n",
       "      <td>27.90</td>\n",
       "      <td>0</td>\n",
       "      <td>0</td>\n",
       "      <td>0</td>\n",
       "      <td>16884.9240</td>\n",
       "    </tr>\n",
       "    <tr>\n",
       "      <th>1</th>\n",
       "      <td>18</td>\n",
       "      <td>1</td>\n",
       "      <td>33.77</td>\n",
       "      <td>1</td>\n",
       "      <td>1</td>\n",
       "      <td>1</td>\n",
       "      <td>1725.5523</td>\n",
       "    </tr>\n",
       "  </tbody>\n",
       "</table>\n",
       "</div>"
      ],
      "text/plain": [
       "   age  sex    bmi  children  smoker  region     charges\n",
       "0   19    0  27.90         0       0       0  16884.9240\n",
       "1   18    1  33.77         1       1       1   1725.5523"
      ]
     },
     "execution_count": 43,
     "metadata": {},
     "output_type": "execute_result"
    }
   ],
   "source": [
    "df2.head(2)"
   ]
  },
  {
   "cell_type": "code",
   "execution_count": 44,
   "metadata": {},
   "outputs": [
    {
     "data": {
      "image/png": "[encoded data removed]",
      "text/plain": [
       "<Figure size 432x288 with 1 Axes>"
      ]
     },
     "metadata": {
      "needs_background": "light"
     },
     "output_type": "display_data"
    }
   ],
   "source": [
    "import seaborn as sns\n",
    "import matplotlib.pyplot as plt\n",
    "import numpy as np\n",
    "sns.regplot(x = df2.age, y = df2.charges, ci = 95)\n",
    "corcoef = np.corrcoef(df2.age, df2.charges)[0,1]\n",
    "text_cc = '\\n\\n\\n\\ncorrelation coefficient is %1.4f' %corcoef\n",
    "plt.title(\"age vs charges\")\n",
    "plt.suptitle(text_cc)\n",
    "plt.gcf().tight_layout()\n",
    "plt.show()"
   ]
  },
  {
   "cell_type": "code",
   "execution_count": 45,
   "metadata": {},
   "outputs": [
    {
     "data": {
      "image/png": "[encoded data removed]",
      "text/plain": [
       "<Figure size 432x288 with 1 Axes>"
      ]
     },
     "metadata": {
      "needs_background": "light"
     },
     "output_type": "display_data"
    }
   ],
   "source": [
    "import seaborn as sns\n",
    "import matplotlib.pyplot as plt\n",
    "import numpy as np\n",
    "sns.regplot(x = df2.sex, y = df2.charges, ci = 95)\n",
    "corcoef = np.corrcoef(df2.sex, df2.charges)[0,1]\n",
    "text_cc = '\\n\\n\\n\\ncorrelation coefficient is %1.4f' %corcoef\n",
    "plt.title(\"sex vs charges\")\n",
    "plt.suptitle(text_cc)\n",
    "plt.gcf().tight_layout()\n",
    "plt.show()"
   ]
  },
  {
   "cell_type": "code",
   "execution_count": 46,
   "metadata": {},
   "outputs": [
    {
     "data": {
      "image/png": "[encoded data removed]",
      "text/plain": [
       "<Figure size 432x288 with 1 Axes>"
      ]
     },
     "metadata": {
      "needs_background": "light"
     },
     "output_type": "display_data"
    }
   ],
   "source": [
    "import seaborn as sns\n",
    "import matplotlib.pyplot as plt\n",
    "import numpy as np\n",
    "sns.regplot(x = df2.smoker, y = df2.charges, ci = 95)\n",
    "corcoef = np.corrcoef(df2.smoker, df2.charges)[0,1]\n",
    "text_cc = '\\n\\n\\n\\ncorrelation coefficient is %1.4f' %corcoef\n",
    "plt.title(\"smoker vs charges\")\n",
    "plt.suptitle(text_cc)\n",
    "plt.gcf().tight_layout()\n",
    "plt.show()"
   ]
  },
  {
   "cell_type": "code",
   "execution_count": 47,
   "metadata": {},
   "outputs": [
    {
     "data": {
      "image/png": "[encoded data removed]",
      "text/plain": [
       "<Figure size 432x288 with 1 Axes>"
      ]
     },
     "metadata": {
      "needs_background": "light"
     },
     "output_type": "display_data"
    }
   ],
   "source": [
    "import seaborn as sns\n",
    "import matplotlib.pyplot as plt\n",
    "import numpy as np\n",
    "sns.regplot(x = df2.bmi, y = df2.charges, ci = 95)\n",
    "corcoef = np.corrcoef(df2.bmi, df2.charges)[0,1]\n",
    "text_cc = '\\n\\n\\n\\ncorrelation coefficient is %1.4f' %corcoef\n",
    "plt.title(\"bmi vs charges\")\n",
    "plt.suptitle(text_cc)\n",
    "plt.gcf().tight_layout()\n",
    "plt.show()"
   ]
  },
  {
   "cell_type": "code",
   "execution_count": 48,
   "metadata": {},
   "outputs": [
    {
     "data": {
      "image/png": "[encoded data removed]",
      "text/plain": [
       "<Figure size 432x288 with 1 Axes>"
      ]
     },
     "metadata": {
      "needs_background": "light"
     },
     "output_type": "display_data"
    }
   ],
   "source": [
    "import seaborn as sns\n",
    "import matplotlib.pyplot as plt\n",
    "import numpy as np\n",
    "sns.regplot(x = df2.children, y = df2.charges, ci = 95)\n",
    "corcoef = np.corrcoef(df2.children, df2.charges)[0,1]\n",
    "text_cc = '\\n\\n\\n\\ncorrelation coefficient is %1.4f' %corcoef\n",
    "plt.title(\"children vs charges\")\n",
    "plt.suptitle(text_cc)\n",
    "plt.gcf().tight_layout()\n",
    "plt.show()"
   ]
  },
  {
   "cell_type": "code",
   "execution_count": 49,
   "metadata": {},
   "outputs": [
    {
     "data": {
      "image/png": "[encoded data removed]",
      "text/plain": [
       "<Figure size 432x288 with 1 Axes>"
      ]
     },
     "metadata": {
      "needs_background": "light"
     },
     "output_type": "display_data"
    }
   ],
   "source": [
    "import seaborn as sns\n",
    "import matplotlib.pyplot as plt\n",
    "import numpy as np\n",
    "sns.regplot(x = df2.region, y = df2.charges, ci = 95)\n",
    "corcoef = np.corrcoef(df2.region, df2.charges)[0,1]\n",
    "text_cc = '\\n\\n\\n\\ncorrelation coefficient is %1.4f' %corcoef\n",
    "plt.title(\"region vs charges\")\n",
    "plt.suptitle(text_cc)\n",
    "plt.gcf().tight_layout()\n",
    "plt.show()"
   ]
  },
  {
   "cell_type": "code",
   "execution_count": 50,
   "metadata": {},
   "outputs": [],
   "source": [
    "X1 = df2[['age', 'smoker', 'sex']]\n",
    "y = df2[['charges']]"
   ]
  },
  {
   "cell_type": "code",
   "execution_count": 73,
   "metadata": {},
   "outputs": [],
   "source": [
    "from sklearn.model_selection import train_test_split\n",
    "x_train, x_test, y_train, y_test = train_test_split(X1, y, test_size = 0.3)"
   ]
  },
  {
   "cell_type": "code",
   "execution_count": 74,
   "metadata": {},
   "outputs": [
    {
     "name": "stdout",
     "output_type": "stream",
     "text": [
      "936\n",
      "402\n",
      "936\n",
      "402\n"
     ]
    }
   ],
   "source": [
    "print(len(x_train))\n",
    "print(len(x_test))\n",
    "print(len(y_train))\n",
    "print(len(y_test))"
   ]
  },
  {
   "cell_type": "code",
   "execution_count": 75,
   "metadata": {},
   "outputs": [
    {
     "data": {
      "image/png": "[encoded data removed]",
      "text/plain": [
       "<Figure size 432x288 with 2 Axes>"
      ]
     },
     "metadata": {
      "needs_background": "light"
     },
     "output_type": "display_data"
    }
   ],
   "source": [
    "sns.heatmap(df2.corr(), cmap='BuGn')\n",
    "plt.show()"
   ]
  },
  {
   "cell_type": "code",
   "execution_count": 76,
   "metadata": {},
   "outputs": [
    {
     "data": {
      "text/plain": [
       "LinearRegression(copy_X=True, fit_intercept=True, n_jobs=None, normalize=True)"
      ]
     },
     "execution_count": 76,
     "metadata": {},
     "output_type": "execute_result"
    }
   ],
   "source": [
    "from sklearn.linear_model import LinearRegression\n",
    "clf = LinearRegression(normalize = True)\n",
    "clf.fit(x_train, y_train)"
   ]
  },
  {
   "cell_type": "code",
   "execution_count": 90,
   "metadata": {},
   "outputs": [
    {
     "data": {
      "text/plain": [
       "array([[ 2955.87680598],\n",
       "       [33248.50942069],\n",
       "       [ 6391.397412  ],\n",
       "       [ 5100.33246062],\n",
       "       [ 4296.16159013],\n",
       "       [ 8317.01594257],\n",
       "       [ 8853.12985623],\n",
       "       [12020.59350542],\n",
       "       [ 4246.94175737],\n",
       "       [ 7999.73915298],\n",
       "       [ 7195.56828249],\n",
       "       [12873.98420867],\n",
       "       [34101.90012395],\n",
       "       [12288.65046225],\n",
       "       [ 4783.05567103],\n",
       "       [11752.53654859],\n",
       "       [36197.13594582],\n",
       "       [ 9121.18681306],\n",
       "       [ 8585.0728994 ],\n",
       "       [13896.99220323],\n",
       "       [27400.47620321],\n",
       "       [37805.47768679],\n",
       "       [ 4246.94175737],\n",
       "       [38390.81143322],\n",
       "       [12337.87029501],\n",
       "       [ 5636.44637428],\n",
       "       [ 5904.50333111],\n",
       "       [ 9389.24376989],\n",
       "       [12337.87029501],\n",
       "       [30349.10272833],\n",
       "       [31908.22463655],\n",
       "       [ 3978.88480054],\n",
       "       [34052.68029118],\n",
       "       [ 9389.24376989],\n",
       "       [38877.70551411],\n",
       "       [10997.58551087],\n",
       "       [ 8853.12985623],\n",
       "       [ 4246.94175737],\n",
       "       [ 9876.13785079],\n",
       "       [ 4832.27550379],\n",
       "       [27083.19941362],\n",
       "       [11752.53654859],\n",
       "       [ 3223.93376281],\n",
       "       [10144.19480762],\n",
       "       [ 3710.82784371],\n",
       "       [ 4246.94175737],\n",
       "       [13946.21203599],\n",
       "       [13092.82133274],\n",
       "       [35710.24186492],\n",
       "       [ 3223.93376281],\n",
       "       [ 5100.33246062],\n",
       "       [ 2687.81984915],\n",
       "       [11801.75638136],\n",
       "       [ 9340.02393713],\n",
       "       [12605.92725184],\n",
       "       [ 5368.38941745],\n",
       "       [ 5855.28349834],\n",
       "       [ 2955.87680598],\n",
       "       [ 8317.01594257],\n",
       "       [14433.10611689],\n",
       "       [ 3174.71393005],\n",
       "       [ 8585.0728994 ],\n",
       "       [34588.79420484],\n",
       "       [29544.93185784],\n",
       "       [34101.90012395],\n",
       "       [ 3491.99071964],\n",
       "       [11752.53654859],\n",
       "       [ 9925.35768355],\n",
       "       [ 4296.16159013],\n",
       "       [10193.41464038],\n",
       "       [33029.67229663],\n",
       "       [ 6708.6742016 ],\n",
       "       [ 4514.9987142 ],\n",
       "       [35710.24186492],\n",
       "       [38341.59160045],\n",
       "       [10997.58551087],\n",
       "       [ 8267.79610981],\n",
       "       [ 2906.65697322],\n",
       "       [ 3760.04767647],\n",
       "       [10461.47159721],\n",
       "       [ 7780.90202891],\n",
       "       [ 5051.11262786],\n",
       "       [ 5319.16958468],\n",
       "       [ 8267.79610981],\n",
       "       [10461.47159721],\n",
       "       [ 2906.65697322],\n",
       "       [ 8267.79610981],\n",
       "       [10144.19480762],\n",
       "       [ 8803.91002347],\n",
       "       [ 3491.99071964],\n",
       "       [ 8853.12985623],\n",
       "       [12605.92725184],\n",
       "       [ 5855.28349834],\n",
       "       [ 8803.91002347],\n",
       "       [ 3710.82784371],\n",
       "       [ 9340.02393713],\n",
       "       [ 5319.16958468],\n",
       "       [ 9340.02393713],\n",
       "       [ 2906.65697322],\n",
       "       [37805.47768679],\n",
       "       [ 2687.81984915],\n",
       "       [14750.38290648],\n",
       "       [12069.81333818],\n",
       "       [ 4832.27550379],\n",
       "       [ 4832.27550379],\n",
       "       [ 9925.35768355],\n",
       "       [ 9340.02393713],\n",
       "       [ 8853.12985623],\n",
       "       [34856.85116167],\n",
       "       [14750.38290648],\n",
       "       [ 9121.18681306],\n",
       "       [12337.87029501],\n",
       "       [29495.71202508],\n",
       "       [13410.09812233],\n",
       "       [31957.44446931],\n",
       "       [ 9389.24376989],\n",
       "       [ 8853.12985623],\n",
       "       [ 2955.87680598],\n",
       "       [ 2687.81984915],\n",
       "       [14214.26899282],\n",
       "       [10412.25176444],\n",
       "       [34588.79420484],\n",
       "       [ 5904.50333111],\n",
       "       [ 3442.77088688],\n",
       "       [ 3710.82784371],\n",
       "       [13678.15507916],\n",
       "       [28423.48419776],\n",
       "       [12069.81333818],\n",
       "       [12556.70741908],\n",
       "       [ 7512.84507208],\n",
       "       [10997.58551087],\n",
       "       [10144.19480762],\n",
       "       [ 5636.44637428],\n",
       "       [ 6172.56028794],\n",
       "       [10461.47159721],\n",
       "       [15237.27698738],\n",
       "       [13360.87828957],\n",
       "       [ 7780.90202891],\n",
       "       [35124.9081185 ],\n",
       "       [10729.52855404],\n",
       "       [13628.9352464 ],\n",
       "       [ 2955.87680598],\n",
       "       [11801.75638136],\n",
       "       [28691.54115459],\n",
       "       [12069.81333818],\n",
       "       [10193.41464038],\n",
       "       [ 9925.35768355],\n",
       "       [11533.69942453],\n",
       "       [13628.9352464 ],\n",
       "       [28740.76098736],\n",
       "       [ 3978.88480054],\n",
       "       [ 5100.33246062],\n",
       "       [12605.92725184],\n",
       "       [ 5904.50333111],\n",
       "       [ 9121.18681306],\n",
       "       [ 3760.04767647],\n",
       "       [ 8803.91002347],\n",
       "       [10729.52855404],\n",
       "       [ 5319.16958468],\n",
       "       [11216.42263493],\n",
       "       [ 9876.13785079],\n",
       "       [11216.42263493],\n",
       "       [ 6172.56028794],\n",
       "       [14701.16307372],\n",
       "       [ 6123.34045517],\n",
       "       [ 3174.71393005],\n",
       "       [ 2955.87680598],\n",
       "       [ 2687.81984915],\n",
       "       [34101.90012395],\n",
       "       [14482.32594965],\n",
       "       [ 8853.12985623],\n",
       "       [33248.50942069],\n",
       "       [ 6659.45436883],\n",
       "       [ 8267.79610981],\n",
       "       [11801.75638136],\n",
       "       [ 7244.78811525],\n",
       "       [ 7999.73915298],\n",
       "       [26815.14245679],\n",
       "       [12824.76437591],\n",
       "       [ 8267.79610981],\n",
       "       [27619.31332727],\n",
       "       [33565.78621029],\n",
       "       [11801.75638136],\n",
       "       [14165.04916006],\n",
       "       [10997.58551087],\n",
       "       [32980.45246386],\n",
       "       [ 8267.79610981],\n",
       "       [ 4783.05567103],\n",
       "       [10948.3656781 ],\n",
       "       [ 3978.88480054],\n",
       "       [10461.47159721],\n",
       "       [ 6172.56028794],\n",
       "       [ 9389.24376989],\n",
       "       [12020.59350542],\n",
       "       [ 7463.62523932],\n",
       "       [ 8585.0728994 ],\n",
       "       [ 3223.93376281],\n",
       "       [12337.87029501],\n",
       "       [ 4564.21854696],\n",
       "       [38390.81143322],\n",
       "       [11484.47959176],\n",
       "       [ 4296.16159013],\n",
       "       [ 3491.99071964],\n",
       "       [ 4296.16159013],\n",
       "       [ 2906.65697322],\n",
       "       [11265.6424677 ],\n",
       "       [30567.9398524 ],\n",
       "       [13360.87828957],\n",
       "       [ 2955.87680598],\n",
       "       [ 5587.22654151],\n",
       "       [ 3760.04767647],\n",
       "       [ 4514.9987142 ],\n",
       "       [ 6708.6742016 ],\n",
       "       [ 7512.84507208],\n",
       "       [ 6659.45436883],\n",
       "       [11265.6424677 ],\n",
       "       [11265.6424677 ],\n",
       "       [26596.30533272],\n",
       "       [12605.92725184],\n",
       "       [29763.76898191],\n",
       "       [ 3710.82784371],\n",
       "       [ 7195.56828249],\n",
       "       [33029.67229663],\n",
       "       [ 8585.0728994 ],\n",
       "       [38390.81143322],\n",
       "       [ 5904.50333111],\n",
       "       [30299.88289557],\n",
       "       [12824.76437591],\n",
       "       [13628.9352464 ],\n",
       "       [12873.98420867],\n",
       "       [ 3442.77088688],\n",
       "       [ 9657.30072672],\n",
       "       [36197.13594582],\n",
       "       [11533.69942453],\n",
       "       [12288.65046225],\n",
       "       [28959.59811142],\n",
       "       [13946.21203599],\n",
       "       [ 3223.93376281],\n",
       "       [ 3491.99071964],\n",
       "       [13896.99220323],\n",
       "       [34101.90012395],\n",
       "       [12069.81333818],\n",
       "       [ 7999.73915298],\n",
       "       [ 3491.99071964],\n",
       "       [12556.70741908],\n",
       "       [ 5100.33246062],\n",
       "       [15018.43986331],\n",
       "       [ 5319.16958468],\n",
       "       [11752.53654859],\n",
       "       [11265.6424677 ],\n",
       "       [11801.75638136],\n",
       "       [12020.59350542],\n",
       "       [15237.27698738],\n",
       "       [ 4783.05567103],\n",
       "       [ 6659.45436883],\n",
       "       [15237.27698738],\n",
       "       [38877.70551411],\n",
       "       [ 4514.9987142 ],\n",
       "       [33833.84316712],\n",
       "       [35442.18490809],\n",
       "       [ 5368.38941745],\n",
       "       [ 9876.13785079],\n",
       "       [ 8803.91002347],\n",
       "       [30031.82593874],\n",
       "       [ 4246.94175737],\n",
       "       [10997.58551087],\n",
       "       [ 4028.1046333 ],\n",
       "       [ 4028.1046333 ],\n",
       "       [ 9340.02393713],\n",
       "       [ 7463.62523932],\n",
       "       [12824.76437591],\n",
       "       [11216.42263493],\n",
       "       [ 3174.71393005],\n",
       "       [12069.81333818],\n",
       "       [ 3710.82784371],\n",
       "       [10729.52855404],\n",
       "       [ 6708.6742016 ],\n",
       "       [ 5319.16958468],\n",
       "       [27351.25637045],\n",
       "       [ 2906.65697322],\n",
       "       [10412.25176444],\n",
       "       [ 2906.65697322],\n",
       "       [14214.26899282],\n",
       "       [35124.9081185 ],\n",
       "       [ 6391.397412  ],\n",
       "       [ 2906.65697322],\n",
       "       [ 2687.81984915],\n",
       "       [ 6976.73115842],\n",
       "       [37586.64056273],\n",
       "       [ 4564.21854696],\n",
       "       [13946.21203599],\n",
       "       [31372.11072289],\n",
       "       [ 3978.88480054],\n",
       "       [ 2955.87680598],\n",
       "       [32444.33855021],\n",
       "       [10948.3656781 ],\n",
       "       [14750.38290648],\n",
       "       [ 3710.82784371],\n",
       "       [26328.24837589],\n",
       "       [34320.73724801],\n",
       "       [12020.59350542],\n",
       "       [26547.08549996],\n",
       "       [14433.10611689],\n",
       "       [ 7463.62523932],\n",
       "       [ 9657.30072672],\n",
       "       [14750.38290648],\n",
       "       [10729.52855404],\n",
       "       [ 3442.77088688],\n",
       "       [13360.87828957],\n",
       "       [ 3174.71393005],\n",
       "       [33297.72925346],\n",
       "       [ 8267.79610981],\n",
       "       [ 7244.78811525],\n",
       "       [14165.04916006],\n",
       "       [ 5636.44637428],\n",
       "       [33029.67229663],\n",
       "       [ 8853.12985623],\n",
       "       [14433.10611689],\n",
       "       [ 5051.11262786],\n",
       "       [12337.87029501],\n",
       "       [ 3174.71393005],\n",
       "       [ 8853.12985623],\n",
       "       [31372.11072289],\n",
       "       [ 2906.65697322],\n",
       "       [33297.72925346],\n",
       "       [35929.07898899],\n",
       "       [ 7244.78811525],\n",
       "       [11216.42263493],\n",
       "       [ 2906.65697322],\n",
       "       [ 6391.397412  ],\n",
       "       [38658.86839005],\n",
       "       [ 7512.84507208],\n",
       "       [13896.99220323],\n",
       "       [10461.47159721],\n",
       "       [ 9657.30072672],\n",
       "       [ 7463.62523932],\n",
       "       [ 6172.56028794],\n",
       "       [33248.50942069],\n",
       "       [13360.87828957],\n",
       "       [ 2906.65697322],\n",
       "       [ 2955.87680598],\n",
       "       [ 4783.05567103],\n",
       "       [ 3174.71393005],\n",
       "       [ 6440.61724477],\n",
       "       [14482.32594965],\n",
       "       [ 5051.11262786],\n",
       "       [ 3174.71393005],\n",
       "       [14750.38290648],\n",
       "       [ 8853.12985623],\n",
       "       [ 9340.02393713],\n",
       "       [ 5855.28349834],\n",
       "       [ 7463.62523932],\n",
       "       [ 6123.34045517],\n",
       "       [13142.0411655 ],\n",
       "       [ 9876.13785079],\n",
       "       [13410.09812233],\n",
       "       [32176.28159338],\n",
       "       [32980.45246386],\n",
       "       [ 2906.65697322],\n",
       "       [12020.59350542],\n",
       "       [29763.76898191],\n",
       "       [12873.98420867],\n",
       "       [32761.6153398 ],\n",
       "       [13896.99220323],\n",
       "       [ 3710.82784371],\n",
       "       [13142.0411655 ],\n",
       "       [32761.6153398 ],\n",
       "       [14433.10611689],\n",
       "       [ 4783.05567103],\n",
       "       [10680.30872127],\n",
       "       [10144.19480762],\n",
       "       [13410.09812233],\n",
       "       [10680.30872127],\n",
       "       [14214.26899282],\n",
       "       [11484.47959176],\n",
       "       [35710.24186492],\n",
       "       [ 9876.13785079],\n",
       "       [28740.76098736],\n",
       "       [38073.53464362],\n",
       "       [ 9121.18681306],\n",
       "       [ 4783.05567103],\n",
       "       [31421.33055565],\n",
       "       [33784.62333435],\n",
       "       [ 6659.45436883],\n",
       "       [12069.81333818],\n",
       "       [ 6172.56028794],\n",
       "       [10412.25176444],\n",
       "       [26328.24837589],\n",
       "       [ 6708.6742016 ],\n",
       "       [11533.69942453],\n",
       "       [ 5855.28349834],\n",
       "       [ 2906.65697322],\n",
       "       [ 7780.90202891],\n",
       "       [32712.39550703],\n",
       "       [ 8317.01594257],\n",
       "       [ 9121.18681306],\n",
       "       [ 8048.95898574],\n",
       "       [12337.87029501],\n",
       "       [37805.47768679],\n",
       "       [ 2687.81984915],\n",
       "       [30617.15968516],\n",
       "       [ 3174.71393005]])"
      ]
     },
     "execution_count": 90,
     "metadata": {},
     "output_type": "execute_result"
    }
   ],
   "source": [
    "y_pred = clf.predict(x_test)\n",
    "y_pred"
   ]
  },
  {
   "cell_type": "code",
   "execution_count": 78,
   "metadata": {},
   "outputs": [
    {
     "data": {
      "text/plain": [
       "array([[ 2956.],\n",
       "       [33249.],\n",
       "       [ 6391.],\n",
       "       [ 5100.],\n",
       "       [ 4296.],\n",
       "       [ 8317.],\n",
       "       [ 8853.],\n",
       "       [12021.],\n",
       "       [ 4247.],\n",
       "       [ 8000.],\n",
       "       [ 7196.],\n",
       "       [12874.],\n",
       "       [34102.],\n",
       "       [12289.],\n",
       "       [ 4783.],\n",
       "       [11753.],\n",
       "       [36197.],\n",
       "       [ 9121.],\n",
       "       [ 8585.],\n",
       "       [13897.],\n",
       "       [27400.],\n",
       "       [37805.],\n",
       "       [ 4247.],\n",
       "       [38391.],\n",
       "       [12338.],\n",
       "       [ 5636.],\n",
       "       [ 5905.],\n",
       "       [ 9389.],\n",
       "       [12338.],\n",
       "       [30349.],\n",
       "       [31908.],\n",
       "       [ 3979.],\n",
       "       [34053.],\n",
       "       [ 9389.],\n",
       "       [38878.],\n",
       "       [10998.],\n",
       "       [ 8853.],\n",
       "       [ 4247.],\n",
       "       [ 9876.],\n",
       "       [ 4832.],\n",
       "       [27083.],\n",
       "       [11753.],\n",
       "       [ 3224.],\n",
       "       [10144.],\n",
       "       [ 3711.],\n",
       "       [ 4247.],\n",
       "       [13946.],\n",
       "       [13093.],\n",
       "       [35710.],\n",
       "       [ 3224.],\n",
       "       [ 5100.],\n",
       "       [ 2688.],\n",
       "       [11802.],\n",
       "       [ 9340.],\n",
       "       [12606.],\n",
       "       [ 5368.],\n",
       "       [ 5855.],\n",
       "       [ 2956.],\n",
       "       [ 8317.],\n",
       "       [14433.],\n",
       "       [ 3175.],\n",
       "       [ 8585.],\n",
       "       [34589.],\n",
       "       [29545.],\n",
       "       [34102.],\n",
       "       [ 3492.],\n",
       "       [11753.],\n",
       "       [ 9925.],\n",
       "       [ 4296.],\n",
       "       [10193.],\n",
       "       [33030.],\n",
       "       [ 6709.],\n",
       "       [ 4515.],\n",
       "       [35710.],\n",
       "       [38342.],\n",
       "       [10998.],\n",
       "       [ 8268.],\n",
       "       [ 2907.],\n",
       "       [ 3760.],\n",
       "       [10461.],\n",
       "       [ 7781.],\n",
       "       [ 5051.],\n",
       "       [ 5319.],\n",
       "       [ 8268.],\n",
       "       [10461.],\n",
       "       [ 2907.],\n",
       "       [ 8268.],\n",
       "       [10144.],\n",
       "       [ 8804.],\n",
       "       [ 3492.],\n",
       "       [ 8853.],\n",
       "       [12606.],\n",
       "       [ 5855.],\n",
       "       [ 8804.],\n",
       "       [ 3711.],\n",
       "       [ 9340.],\n",
       "       [ 5319.],\n",
       "       [ 9340.],\n",
       "       [ 2907.],\n",
       "       [37805.],\n",
       "       [ 2688.],\n",
       "       [14750.],\n",
       "       [12070.],\n",
       "       [ 4832.],\n",
       "       [ 4832.],\n",
       "       [ 9925.],\n",
       "       [ 9340.],\n",
       "       [ 8853.],\n",
       "       [34857.],\n",
       "       [14750.],\n",
       "       [ 9121.],\n",
       "       [12338.],\n",
       "       [29496.],\n",
       "       [13410.],\n",
       "       [31957.],\n",
       "       [ 9389.],\n",
       "       [ 8853.],\n",
       "       [ 2956.],\n",
       "       [ 2688.],\n",
       "       [14214.],\n",
       "       [10412.],\n",
       "       [34589.],\n",
       "       [ 5905.],\n",
       "       [ 3443.],\n",
       "       [ 3711.],\n",
       "       [13678.],\n",
       "       [28423.],\n",
       "       [12070.],\n",
       "       [12557.],\n",
       "       [ 7513.],\n",
       "       [10998.],\n",
       "       [10144.],\n",
       "       [ 5636.],\n",
       "       [ 6173.],\n",
       "       [10461.],\n",
       "       [15237.],\n",
       "       [13361.],\n",
       "       [ 7781.],\n",
       "       [35125.],\n",
       "       [10730.],\n",
       "       [13629.],\n",
       "       [ 2956.],\n",
       "       [11802.],\n",
       "       [28692.],\n",
       "       [12070.],\n",
       "       [10193.],\n",
       "       [ 9925.],\n",
       "       [11534.],\n",
       "       [13629.],\n",
       "       [28741.],\n",
       "       [ 3979.],\n",
       "       [ 5100.],\n",
       "       [12606.],\n",
       "       [ 5905.],\n",
       "       [ 9121.],\n",
       "       [ 3760.],\n",
       "       [ 8804.],\n",
       "       [10730.],\n",
       "       [ 5319.],\n",
       "       [11216.],\n",
       "       [ 9876.],\n",
       "       [11216.],\n",
       "       [ 6173.],\n",
       "       [14701.],\n",
       "       [ 6123.],\n",
       "       [ 3175.],\n",
       "       [ 2956.],\n",
       "       [ 2688.],\n",
       "       [34102.],\n",
       "       [14482.],\n",
       "       [ 8853.],\n",
       "       [33249.],\n",
       "       [ 6659.],\n",
       "       [ 8268.],\n",
       "       [11802.],\n",
       "       [ 7245.],\n",
       "       [ 8000.],\n",
       "       [26815.],\n",
       "       [12825.],\n",
       "       [ 8268.],\n",
       "       [27619.],\n",
       "       [33566.],\n",
       "       [11802.],\n",
       "       [14165.],\n",
       "       [10998.],\n",
       "       [32980.],\n",
       "       [ 8268.],\n",
       "       [ 4783.],\n",
       "       [10948.],\n",
       "       [ 3979.],\n",
       "       [10461.],\n",
       "       [ 6173.],\n",
       "       [ 9389.],\n",
       "       [12021.],\n",
       "       [ 7464.],\n",
       "       [ 8585.],\n",
       "       [ 3224.],\n",
       "       [12338.],\n",
       "       [ 4564.],\n",
       "       [38391.],\n",
       "       [11484.],\n",
       "       [ 4296.],\n",
       "       [ 3492.],\n",
       "       [ 4296.],\n",
       "       [ 2907.],\n",
       "       [11266.],\n",
       "       [30568.],\n",
       "       [13361.],\n",
       "       [ 2956.],\n",
       "       [ 5587.],\n",
       "       [ 3760.],\n",
       "       [ 4515.],\n",
       "       [ 6709.],\n",
       "       [ 7513.],\n",
       "       [ 6659.],\n",
       "       [11266.],\n",
       "       [11266.],\n",
       "       [26596.],\n",
       "       [12606.],\n",
       "       [29764.],\n",
       "       [ 3711.],\n",
       "       [ 7196.],\n",
       "       [33030.],\n",
       "       [ 8585.],\n",
       "       [38391.],\n",
       "       [ 5905.],\n",
       "       [30300.],\n",
       "       [12825.],\n",
       "       [13629.],\n",
       "       [12874.],\n",
       "       [ 3443.],\n",
       "       [ 9657.],\n",
       "       [36197.],\n",
       "       [11534.],\n",
       "       [12289.],\n",
       "       [28960.],\n",
       "       [13946.],\n",
       "       [ 3224.],\n",
       "       [ 3492.],\n",
       "       [13897.],\n",
       "       [34102.],\n",
       "       [12070.],\n",
       "       [ 8000.],\n",
       "       [ 3492.],\n",
       "       [12557.],\n",
       "       [ 5100.],\n",
       "       [15018.],\n",
       "       [ 5319.],\n",
       "       [11753.],\n",
       "       [11266.],\n",
       "       [11802.],\n",
       "       [12021.],\n",
       "       [15237.],\n",
       "       [ 4783.],\n",
       "       [ 6659.],\n",
       "       [15237.],\n",
       "       [38878.],\n",
       "       [ 4515.],\n",
       "       [33834.],\n",
       "       [35442.],\n",
       "       [ 5368.],\n",
       "       [ 9876.],\n",
       "       [ 8804.],\n",
       "       [30032.],\n",
       "       [ 4247.],\n",
       "       [10998.],\n",
       "       [ 4028.],\n",
       "       [ 4028.],\n",
       "       [ 9340.],\n",
       "       [ 7464.],\n",
       "       [12825.],\n",
       "       [11216.],\n",
       "       [ 3175.],\n",
       "       [12070.],\n",
       "       [ 3711.],\n",
       "       [10730.],\n",
       "       [ 6709.],\n",
       "       [ 5319.],\n",
       "       [27351.],\n",
       "       [ 2907.],\n",
       "       [10412.],\n",
       "       [ 2907.],\n",
       "       [14214.],\n",
       "       [35125.],\n",
       "       [ 6391.],\n",
       "       [ 2907.],\n",
       "       [ 2688.],\n",
       "       [ 6977.],\n",
       "       [37587.],\n",
       "       [ 4564.],\n",
       "       [13946.],\n",
       "       [31372.],\n",
       "       [ 3979.],\n",
       "       [ 2956.],\n",
       "       [32444.],\n",
       "       [10948.],\n",
       "       [14750.],\n",
       "       [ 3711.],\n",
       "       [26328.],\n",
       "       [34321.],\n",
       "       [12021.],\n",
       "       [26547.],\n",
       "       [14433.],\n",
       "       [ 7464.],\n",
       "       [ 9657.],\n",
       "       [14750.],\n",
       "       [10730.],\n",
       "       [ 3443.],\n",
       "       [13361.],\n",
       "       [ 3175.],\n",
       "       [33298.],\n",
       "       [ 8268.],\n",
       "       [ 7245.],\n",
       "       [14165.],\n",
       "       [ 5636.],\n",
       "       [33030.],\n",
       "       [ 8853.],\n",
       "       [14433.],\n",
       "       [ 5051.],\n",
       "       [12338.],\n",
       "       [ 3175.],\n",
       "       [ 8853.],\n",
       "       [31372.],\n",
       "       [ 2907.],\n",
       "       [33298.],\n",
       "       [35929.],\n",
       "       [ 7245.],\n",
       "       [11216.],\n",
       "       [ 2907.],\n",
       "       [ 6391.],\n",
       "       [38659.],\n",
       "       [ 7513.],\n",
       "       [13897.],\n",
       "       [10461.],\n",
       "       [ 9657.],\n",
       "       [ 7464.],\n",
       "       [ 6173.],\n",
       "       [33249.],\n",
       "       [13361.],\n",
       "       [ 2907.],\n",
       "       [ 2956.],\n",
       "       [ 4783.],\n",
       "       [ 3175.],\n",
       "       [ 6441.],\n",
       "       [14482.],\n",
       "       [ 5051.],\n",
       "       [ 3175.],\n",
       "       [14750.],\n",
       "       [ 8853.],\n",
       "       [ 9340.],\n",
       "       [ 5855.],\n",
       "       [ 7464.],\n",
       "       [ 6123.],\n",
       "       [13142.],\n",
       "       [ 9876.],\n",
       "       [13410.],\n",
       "       [32176.],\n",
       "       [32980.],\n",
       "       [ 2907.],\n",
       "       [12021.],\n",
       "       [29764.],\n",
       "       [12874.],\n",
       "       [32762.],\n",
       "       [13897.],\n",
       "       [ 3711.],\n",
       "       [13142.],\n",
       "       [32762.],\n",
       "       [14433.],\n",
       "       [ 4783.],\n",
       "       [10680.],\n",
       "       [10144.],\n",
       "       [13410.],\n",
       "       [10680.],\n",
       "       [14214.],\n",
       "       [11484.],\n",
       "       [35710.],\n",
       "       [ 9876.],\n",
       "       [28741.],\n",
       "       [38074.],\n",
       "       [ 9121.],\n",
       "       [ 4783.],\n",
       "       [31421.],\n",
       "       [33785.],\n",
       "       [ 6659.],\n",
       "       [12070.],\n",
       "       [ 6173.],\n",
       "       [10412.],\n",
       "       [26328.],\n",
       "       [ 6709.],\n",
       "       [11534.],\n",
       "       [ 5855.],\n",
       "       [ 2907.],\n",
       "       [ 7781.],\n",
       "       [32712.],\n",
       "       [ 8317.],\n",
       "       [ 9121.],\n",
       "       [ 8049.],\n",
       "       [12338.],\n",
       "       [37805.],\n",
       "       [ 2688.],\n",
       "       [30617.],\n",
       "       [ 3175.]])"
      ]
     },
     "execution_count": 78,
     "metadata": {},
     "output_type": "execute_result"
    }
   ],
   "source": [
    "y_pred_rounded = np.around(y_pred, 0)\n",
    "y_pred_rounded "
   ]
  },
  {
   "cell_type": "code",
   "execution_count": 79,
   "metadata": {},
   "outputs": [
    {
     "data": {
      "image/png": "[encoded data removed]",
      "text/plain": [
       "<Figure size 432x288 with 1 Axes>"
      ]
     },
     "metadata": {
      "needs_background": "light"
     },
     "output_type": "display_data"
    }
   ],
   "source": [
    "plt.title('Test Sales Data Vs Predicted Sales ')\n",
    "plt.scatter(x_test[['smoker']], y_test,  color='black')\n",
    "plt.plot(x_test[['smoker']], y_pred, color='blue', linewidth=1)\n",
    "plt.show()"
   ]
  },
  {
   "cell_type": "code",
   "execution_count": 80,
   "metadata": {},
   "outputs": [
    {
     "name": "stdout",
     "output_type": "stream",
     "text": [
      "The prediction accuracy =  0.7505509364167331\n"
     ]
    }
   ],
   "source": [
    "from sklearn.metrics import r2_score\n",
    "print('The prediction accuracy = ', r2_score(y_test,y_pred))"
   ]
  },
  {
   "cell_type": "code",
   "execution_count": 81,
   "metadata": {},
   "outputs": [
    {
     "name": "stdout",
     "output_type": "stream",
     "text": [
      "Coefficients: \n",
      " [[   268.05695683 -23640.42852674    218.83712407]]\n",
      "Mean squared error: 37521062.61\n",
      "Variance score: 0.75\n"
     ]
    }
   ],
   "source": [
    "from sklearn.metrics import mean_squared_error, r2_score\n",
    "print('Coefficients: \\n', clf.coef_)\n",
    "# The mean squared error\n",
    "print(\"Mean squared error: %.2f\"\n",
    "      % mean_squared_error(y_test, y_pred))\n",
    "# Explained variance score: 1 is perfect prediction\n",
    "print('Variance score: %.2f' % r2_score(y_test, y_pred))"
   ]
  },
  {
   "cell_type": "code",
   "execution_count": 87,
   "metadata": {},
   "outputs": [],
   "source": [
    "import statsmodels.api as sm"
   ]
  },
  {
   "cell_type": "code",
   "execution_count": 88,
   "metadata": {},
   "outputs": [
    {
     "name": "stderr",
     "output_type": "stream",
     "text": [
      "C:\\ProgramData\\Anaconda3\\lib\\site-packages\\numpy\\core\\fromnumeric.py:2389: FutureWarning: Method .ptp is deprecated and will be removed in a future version. Use numpy.ptp instead.\n",
      "  return ptp(axis=axis, out=out, **kwargs)\n"
     ]
    }
   ],
   "source": [
    "X1 = sm.add_constant(X1) # adding a constant\n",
    " \n",
    "model = sm.OLS(y, X1).fit()\n",
    "predictions = model.predict(X1) "
   ]
  },
  {
   "cell_type": "code",
   "execution_count": 91,
   "metadata": {},
   "outputs": [],
   "source": [
    "#print(predictions)"
   ]
  },
  {
   "cell_type": "code",
   "execution_count": 92,
   "metadata": {},
   "outputs": [
    {
     "name": "stdout",
     "output_type": "stream",
     "text": [
      "                            OLS Regression Results                            \n",
      "==============================================================================\n",
      "Dep. Variable:                charges   R-squared:                       0.721\n",
      "Model:                            OLS   Adj. R-squared:                  0.721\n",
      "Method:                 Least Squares   F-statistic:                     1151.\n",
      "Date:                Sun, 21 Jul 2019   Prob (F-statistic):               0.00\n",
      "Time:                        19:30:05   Log-Likelihood:                -13623.\n",
      "No. Observations:                1338   AIC:                         2.725e+04\n",
      "Df Residuals:                    1334   BIC:                         2.727e+04\n",
      "Df Model:                           3                                         \n",
      "Covariance Type:            nonrobust                                         \n",
      "==============================================================================\n",
      "                 coef    std err          t      P>|t|      [0.025      0.975]\n",
      "------------------------------------------------------------------------------\n",
      "const       2.141e+04    651.929     32.847      0.000    2.01e+04    2.27e+04\n",
      "age          274.9264     12.462     22.061      0.000     250.479     299.374\n",
      "smoker     -2.385e+04    434.890    -54.836      0.000   -2.47e+04    -2.3e+04\n",
      "sex           81.8244    350.979      0.233      0.816    -606.707     770.356\n",
      "==============================================================================\n",
      "Omnibus:                      265.615   Durbin-Watson:                   2.081\n",
      "Prob(Omnibus):                  0.000   Jarque-Bera (JB):              638.061\n",
      "Skew:                           1.075   Prob(JB):                    2.80e-139\n",
      "Kurtosis:                       5.612   Cond. No.                         170.\n",
      "==============================================================================\n",
      "\n",
      "Warnings:\n",
      "[1] Standard Errors assume that the covariance matrix of the errors is correctly specified.\n"
     ]
    }
   ],
   "source": [
    "print_model = model.summary()\n",
    "print(print_model)"
   ]
  },
  {
   "cell_type": "code",
   "execution_count": 93,
   "metadata": {},
   "outputs": [
    {
     "name": "stdout",
     "output_type": "stream",
     "text": [
      "SSE = SST =  (           charges\n",
      "0     1.589308e+11\n",
      "1     3.197844e+11\n",
      "2     2.455592e+11\n",
      "3     2.430509e+11\n",
      "4     2.597658e+11\n",
      "5     2.625559e+11\n",
      "6     1.753007e+11\n",
      "7     1.894405e+11\n",
      "8     2.044897e+11\n",
      "9     4.692703e+11\n",
      "10    2.903477e+11\n",
      "11    4.242530e+11\n",
      "12    3.166688e+11\n",
      "13    1.478073e+11\n",
      "14    1.069843e+12\n",
      "15    3.163506e+11\n",
      "16    1.496337e+11\n",
      "17    2.996970e+11\n",
      "18    1.509748e+11\n",
      "19    8.845830e+11\n",
      "20    1.414526e+11\n",
      "21    2.527544e+11\n",
      "22    3.384302e+11\n",
      "23    9.400971e+11\n",
      "24    2.082643e+11\n",
      "25    1.421647e+11\n",
      "26    1.433178e+11\n",
      "27    1.427931e+11\n",
      "28    2.888308e+11\n",
      "29    1.007435e+12\n",
      "...            ...\n",
      "1308  7.109117e+11\n",
      "1309  1.961600e+11\n",
      "1310  1.950543e+11\n",
      "1311  2.427005e+11\n",
      "1312  2.435205e+11\n",
      "1313  8.571000e+11\n",
      "1314  1.818579e+11\n",
      "1315  1.467921e+11\n",
      "1316  3.195952e+11\n",
      "1317  3.375723e+11\n",
      "1318  1.933203e+11\n",
      "1319  1.907280e+11\n",
      "1320  2.238046e+11\n",
      "1321  4.357513e+11\n",
      "1322  1.415621e+11\n",
      "1323  1.396426e+12\n",
      "1324  2.505649e+11\n",
      "1325  1.414719e+11\n",
      "1326  1.932221e+11\n",
      "1327  1.617233e+11\n",
      "1328  2.528676e+11\n",
      "1329  1.530565e+11\n",
      "1330  1.420005e+11\n",
      "1331  1.496430e+11\n",
      "1332  1.460730e+11\n",
      "1333  1.509879e+11\n",
      "1334  3.052508e+11\n",
      "1335  3.227538e+11\n",
      "1336  3.111668e+11\n",
      "1337  4.784747e+11\n",
      "\n",
      "[1338 rows x 1 columns],            charges\n",
      "0     1.748047e+10\n",
      "1     1.783340e+11\n",
      "2     1.041089e+11\n",
      "3     1.016005e+11\n",
      "4     1.183154e+11\n",
      "5     1.211056e+11\n",
      "6     3.385035e+10\n",
      "7     4.799021e+10\n",
      "8     6.303941e+10\n",
      "9     3.278200e+11\n",
      "10    1.488974e+11\n",
      "11    2.828027e+11\n",
      "12    1.752185e+11\n",
      "13    6.356987e+09\n",
      "14    9.283926e+11\n",
      "15    1.749003e+11\n",
      "16    8.183415e+09\n",
      "17    1.582467e+11\n",
      "18    9.524450e+09\n",
      "19    7.431327e+11\n",
      "20    2.312742e+06\n",
      "21    1.113041e+11\n",
      "22    1.969799e+11\n",
      "23    7.986468e+11\n",
      "24    6.681398e+10\n",
      "25    7.144108e+08\n",
      "26    1.867495e+09\n",
      "27    1.342794e+09\n",
      "28    1.473805e+11\n",
      "29    8.659844e+11\n",
      "...            ...\n",
      "1308  5.694614e+11\n",
      "1309  5.470966e+10\n",
      "1310  5.360393e+10\n",
      "1311  1.012502e+11\n",
      "1312  1.020701e+11\n",
      "1313  7.156497e+11\n",
      "1314  4.040761e+10\n",
      "1315  5.341787e+09\n",
      "1316  1.781449e+11\n",
      "1317  1.961220e+11\n",
      "1318  5.186994e+10\n",
      "1319  4.927771e+10\n",
      "1320  8.235428e+10\n",
      "1321  2.943010e+11\n",
      "1322  1.118103e+08\n",
      "1323  1.254976e+12\n",
      "1324  1.091145e+11\n",
      "1325  2.160971e+07\n",
      "1326  5.177175e+10\n",
      "1327  2.027297e+10\n",
      "1328  1.114173e+11\n",
      "1329  1.160621e+10\n",
      "1330  5.501991e+08\n",
      "1331  8.192675e+09\n",
      "1332  4.622662e+09\n",
      "1333  9.537568e+09\n",
      "1334  1.638005e+11\n",
      "1335  1.813034e+11\n",
      "1336  1.697165e+11\n",
      "1337  3.370244e+11\n",
      "\n",
      "[1338 rows x 1 columns])\n",
      "The required r value is            charges\n",
      "0        -8.0919\n",
      "1        -0.7932\n",
      "2        -1.3587\n",
      "3        -1.3922\n",
      "4        -1.1955\n",
      "5        -1.1680\n",
      "6        -4.1787\n",
      "7        -2.9475\n",
      "8        -2.2438\n",
      "9        -0.4315\n",
      "10       -0.9500\n",
      "11       -0.5002\n",
      "12       -0.8073\n",
      "13      -22.2512\n",
      "14       -0.1524\n",
      "15       -0.8087\n",
      "16      -17.2850\n",
      "17       -0.8939\n",
      "18      -14.8513\n",
      "19       -0.1903\n",
      "20   -61161.3066\n",
      "21       -1.2708\n",
      "22       -0.7181\n",
      "23       -0.1771\n",
      "24       -2.1171\n",
      "25     -197.9958\n",
      "26      -75.7433\n",
      "27     -105.3403\n",
      "28       -0.9598\n",
      "29       -0.1633\n",
      "...          ...\n",
      "1308     -0.2484\n",
      "1309     -2.5855\n",
      "1310     -2.6388\n",
      "1311     -1.3970\n",
      "1312     -1.3858\n",
      "1313     -0.1977\n",
      "1314     -3.5006\n",
      "1315    -26.4800\n",
      "1316     -0.7940\n",
      "1317     -0.7212\n",
      "1318     -2.7270\n",
      "1319     -2.8705\n",
      "1320     -1.7176\n",
      "1321     -0.4806\n",
      "1322  -1265.0919\n",
      "1323     -0.1127\n",
      "1324     -1.2963\n",
      "1325  -6545.6844\n",
      "1326     -2.7322\n",
      "1327     -6.9773\n",
      "1328     -1.2696\n",
      "1329    -12.1875\n",
      "1330   -257.0893\n",
      "1331    -17.2655\n",
      "1332    -30.5993\n",
      "1333    -14.8309\n",
      "1334     -0.8636\n",
      "1335     -0.7802\n",
      "1336     -0.8335\n",
      "1337     -0.4197\n",
      "\n",
      "[1338 rows x 1 columns]\n"
     ]
    }
   ],
   "source": [
    "SSE = 0\n",
    "SST = 0\n",
    "for i in range(len(predictions)):\n",
    "    SSE += (predictions[i] - y)**2\n",
    "    \n",
    "yMean = np.mean(y)\n",
    "for i in range(len(predictions)):\n",
    "    SST += (y - yMean)**2\n",
    "    \n",
    "print('SSE = SST = ' , (SSE, SST))\n",
    "\n",
    "rsq = np.round(1 - (SSE/SST), 4)\n",
    "print(\"The required r value is  \" ,rsq)"
   ]
  },
  {
   "cell_type": "code",
   "execution_count": 95,
   "metadata": {},
   "outputs": [],
   "source": [
    "resid = model.resid"
   ]
  },
  {
   "cell_type": "code",
   "execution_count": 97,
   "metadata": {},
   "outputs": [
    {
     "data": {
      "image/png": "[encoded data removed]",
      "text/plain": [
       "<Figure size 576x396 with 1 Axes>"
      ]
     },
     "metadata": {},
     "output_type": "display_data"
    }
   ],
   "source": [
    "ax = sns.residplot(predictions, resid, lowess = True, color = \"g\")\n",
    "ax.set(xlabel='Fitted Value', ylabel='Residuals', title = 'Residual Vs Fitted values PLOT \\n')\n",
    "plt.show()"
   ]
  },
  {
   "cell_type": "code",
   "execution_count": null,
   "metadata": {},
   "outputs": [],
   "source": []
  }
 ],
 "metadata": {
  "kernelspec": {
   "display_name": "Python 3",
   "language": "python",
   "name": "python3"
  },
  "language_info": {
   "codemirror_mode": {
    "name": "ipython",
    "version": 3
   },
   "file_extension": ".py",
   "mimetype": "text/x-python",
   "name": "python",
   "nbconvert_exporter": "python",
   "pygments_lexer": "ipython3",
   "version": "3.7.3"
  }
 },
 "nbformat": 4,
 "nbformat_minor": 2
}
