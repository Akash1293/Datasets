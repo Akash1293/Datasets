{
 "cells": [
  {
   "cell_type": "code",
   "execution_count": 24,
   "metadata": {
    "colab": {},
    "colab_type": "code",
    "id": "0NurL-52LdWk"
   },
   "outputs": [],
   "source": [
    "%matplotlib inline\n",
    "import numpy as np\n",
    "import pandas as pd\n",
    "from sklearn.utils import resample\n",
    "from sklearn.tree import DecisionTreeClassifier\n",
    "from sklearn.linear_model import LogisticRegression\n",
    "from sklearn.naive_bayes import GaussianNB\n",
    "from sklearn.neighbors import KNeighborsClassifier\n",
    "from sklearn.ensemble import RandomForestClassifier\n",
    "from sklearn.model_selection import train_test_split\n",
    "from sklearn.preprocessing import StandardScaler\n",
    "from sklearn.decomposition import PCA\n",
    "from sklearn import model_selection\n",
    "from sklearn import metrics\n",
    "from sklearn.metrics import recall_score\n",
    "from scipy.stats import zscore\n",
    "import matplotlib.pyplot as plt "
   ]
  },
  {
   "cell_type": "code",
   "execution_count": 2,
   "metadata": {},
   "outputs": [],
   "source": [
    "colnames = ['preg', 'glu', 'bp', 'sft', 'ins', 'bmi', 'dpf', 'age', 'outcome']\n",
    "df=pd.read_csv(\"pima-indians-diabetes.data\",names=colnames)"
   ]
  },
  {
   "cell_type": "code",
   "execution_count": 3,
   "metadata": {},
   "outputs": [
    {
     "data": {
      "text/plain": [
       "(768, 9)"
      ]
     },
     "execution_count": 3,
     "metadata": {},
     "output_type": "execute_result"
    }
   ],
   "source": [
    "df.shape"
   ]
  },
  {
   "cell_type": "code",
   "execution_count": 4,
   "metadata": {
    "colab": {
     "base_uri": "https://localhost:8080/",
     "height": 85
    },
    "colab_type": "code",
    "executionInfo": {
     "elapsed": 932,
     "status": "ok",
     "timestamp": 1559044962051,
     "user": {
      "displayName": "Mahesh Anand",
      "photoUrl": "https://lh3.googleusercontent.com/-qzo_AFAl02k/AAAAAAAAAAI/AAAAAAAAABY/Ywj2vXZmRw4/s64/photo.jpg",
      "userId": "06788086636039591358"
     },
     "user_tz": -330
    },
    "id": "xHttzFIz-CSq",
    "outputId": "df32067a-7676-4bd2-ab0c-fbd7997d952c"
   },
   "outputs": [],
   "source": [
    "X=df.drop(['outcome'],axis=1)\n",
    "Y=df['outcome']\n",
    "xtrain,xtest,ytrain,ytest=train_test_split(X,Y,test_size=0.3,random_state=2)"
   ]
  },
  {
   "cell_type": "code",
   "execution_count": 5,
   "metadata": {},
   "outputs": [],
   "source": [
    "LR=LogisticRegression()\n",
    "NB=GaussianNB()\n",
    "KNN=KNeighborsClassifier()"
   ]
  },
  {
   "cell_type": "code",
   "execution_count": 6,
   "metadata": {},
   "outputs": [],
   "source": [
    "from sklearn.model_selection import GridSearchCV"
   ]
  },
  {
   "cell_type": "code",
   "execution_count": 7,
   "metadata": {},
   "outputs": [],
   "source": [
    "#UNIFORM => UN WEIGHT\n",
    "#DISTANCE=> WEIGHTED"
   ]
  },
  {
   "cell_type": "code",
   "execution_count": 8,
   "metadata": {
    "scrolled": false
   },
   "outputs": [
    {
     "name": "stderr",
     "output_type": "stream",
     "text": [
      "C:\\Users\\Gowtham\\Anaconda3\\lib\\site-packages\\sklearn\\model_selection\\_search.py:841: DeprecationWarning: The default of the `iid` parameter will change from True to False in version 0.22 and will be removed in 0.24. This will change numeric results when test-set sizes are unequal.\n",
      "  DeprecationWarning)\n"
     ]
    },
    {
     "data": {
      "text/plain": [
       "GridSearchCV(cv=5, error_score='raise-deprecating',\n",
       "       estimator=KNeighborsClassifier(algorithm='auto', leaf_size=30, metric='minkowski',\n",
       "           metric_params=None, n_jobs=None, n_neighbors=5, p=2,\n",
       "           weights='uniform'),\n",
       "       fit_params=None, iid='warn', n_jobs=None,\n",
       "       param_grid={'n_neighbors': array([ 1,  2,  3,  4,  5,  6,  7,  8,  9, 10, 11, 12, 13, 14, 15, 16, 17,\n",
       "       18, 19, 20, 21, 22, 23, 24, 25, 26, 27, 28, 29, 30, 31, 32, 33, 34,\n",
       "       35, 36, 37, 38, 39, 40, 41, 42, 43, 44, 45, 46, 47, 48, 49]), 'weights': ['uniform', 'distance']},\n",
       "       pre_dispatch='2*n_jobs', refit=True, return_train_score='warn',\n",
       "       scoring='recall', verbose=0)"
      ]
     },
     "execution_count": 8,
     "metadata": {},
     "output_type": "execute_result"
    }
   ],
   "source": [
    "knn_G=KNeighborsClassifier()\n",
    "params={'n_neighbors':np.arange(1,50),'weights':['uniform','distance']}\n",
    "GS=GridSearchCV(knn_G,params,cv=5,scoring='recall')\n",
    "GS.fit(X,Y)"
   ]
  },
  {
   "cell_type": "code",
   "execution_count": 9,
   "metadata": {},
   "outputs": [
    {
     "data": {
      "text/plain": [
       "{'n_neighbors': 12, 'weights': 'distance'}"
      ]
     },
     "execution_count": 9,
     "metadata": {},
     "output_type": "execute_result"
    }
   ],
   "source": [
    "GS.best_params_"
   ]
  },
  {
   "cell_type": "code",
   "execution_count": 10,
   "metadata": {},
   "outputs": [
    {
     "name": "stderr",
     "output_type": "stream",
     "text": [
      "C:\\Users\\Gowtham\\Anaconda3\\lib\\site-packages\\sklearn\\model_selection\\_search.py:841: DeprecationWarning: The default of the `iid` parameter will change from True to False in version 0.22 and will be removed in 0.24. This will change numeric results when test-set sizes are unequal.\n",
      "  DeprecationWarning)\n"
     ]
    },
    {
     "data": {
      "text/plain": [
       "GridSearchCV(cv=5, error_score='raise-deprecating',\n",
       "       estimator=RandomForestClassifier(bootstrap=True, class_weight=None, criterion='gini',\n",
       "            max_depth=None, max_features='auto', max_leaf_nodes=None,\n",
       "            min_impurity_decrease=0.0, min_impurity_split=None,\n",
       "            min_samples_leaf=1, min_samples_split=2,\n",
       "            min_weight_fraction_leaf=0.0, n_estimators='warn', n_jobs=None,\n",
       "            oob_score=False, random_state=0, verbose=0, warm_start=False),\n",
       "       fit_params=None, iid='warn', n_jobs=None,\n",
       "       param_grid={'n_estimators': array([ 1,  2, ..., 98, 99]), 'criterion': ['entropy', 'gini']},\n",
       "       pre_dispatch='2*n_jobs', refit=True, return_train_score='warn',\n",
       "       scoring='recall', verbose=0)"
      ]
     },
     "execution_count": 10,
     "metadata": {},
     "output_type": "execute_result"
    }
   ],
   "source": [
    "RF=RandomForestClassifier(random_state=0)\n",
    "param={'n_estimators':np.arange(1,100),'criterion':['entropy','gini']}\n",
    "GS=GridSearchCV(RF,param,cv=5,scoring='recall')\n",
    "GS.fit(X,Y)"
   ]
  },
  {
   "cell_type": "code",
   "execution_count": 11,
   "metadata": {},
   "outputs": [
    {
     "data": {
      "text/plain": [
       "{'criterion': 'entropy', 'n_estimators': 43}"
      ]
     },
     "execution_count": 11,
     "metadata": {},
     "output_type": "execute_result"
    }
   ],
   "source": [
    "GS.best_params_"
   ]
  },
  {
   "cell_type": "code",
   "execution_count": 97,
   "metadata": {},
   "outputs": [],
   "source": [
    "LR=LogisticRegression()\n",
    "NB=GaussianNB()\n",
    "KNN=KNeighborsClassifier(n_neighbors=12,weights='distance')\n",
    "RF=RandomForestClassifier(n_estimators=43,criterion='entropy',random_state=0)"
   ]
  },
  {
   "cell_type": "code",
   "execution_count": 13,
   "metadata": {},
   "outputs": [],
   "source": [
    "x_train,x_test,y_train,y_test=train_test_split(X,Y,test_size=0.3,random_state=0)"
   ]
  },
  {
   "cell_type": "code",
   "execution_count": 14,
   "metadata": {},
   "outputs": [],
   "source": [
    "from sklearn.metrics import accuracy_score,confusion_matrix,classification_report"
   ]
  },
  {
   "cell_type": "code",
   "execution_count": 15,
   "metadata": {},
   "outputs": [],
   "source": [
    "KNN.fit(x_train,y_train)\n",
    "y_pred_knn=KNN.predict(x_test)\n",
    "acc=accuracy_score(y_test,y_pred_knn)*100\n",
    "cm=confusion_matrix(y_test,y_pred_knn)"
   ]
  },
  {
   "cell_type": "code",
   "execution_count": 16,
   "metadata": {},
   "outputs": [
    {
     "name": "stdout",
     "output_type": "stream",
     "text": [
      "75.32467532467533\n",
      "[[135  22]\n",
      " [ 35  39]]\n"
     ]
    }
   ],
   "source": [
    "print(acc)\n",
    "print(cm)"
   ]
  },
  {
   "cell_type": "markdown",
   "metadata": {},
   "source": [
    "## AFTER SCALLING "
   ]
  },
  {
   "cell_type": "code",
   "execution_count": 17,
   "metadata": {},
   "outputs": [
    {
     "name": "stderr",
     "output_type": "stream",
     "text": [
      "C:\\Users\\Gowtham\\Anaconda3\\lib\\site-packages\\sklearn\\preprocessing\\data.py:625: DataConversionWarning: Data with input dtype int64, float64 were all converted to float64 by StandardScaler.\n",
      "  return self.partial_fit(X, y)\n",
      "C:\\Users\\Gowtham\\Anaconda3\\lib\\site-packages\\sklearn\\base.py:462: DataConversionWarning: Data with input dtype int64, float64 were all converted to float64 by StandardScaler.\n",
      "  return self.fit(X, **fit_params).transform(X)\n"
     ]
    }
   ],
   "source": [
    "SC=StandardScaler()\n",
    "XSC=SC.fit_transform(X)"
   ]
  },
  {
   "cell_type": "code",
   "execution_count": 18,
   "metadata": {},
   "outputs": [
    {
     "name": "stderr",
     "output_type": "stream",
     "text": [
      "C:\\Users\\Gowtham\\Anaconda3\\lib\\site-packages\\sklearn\\model_selection\\_search.py:841: DeprecationWarning: The default of the `iid` parameter will change from True to False in version 0.22 and will be removed in 0.24. This will change numeric results when test-set sizes are unequal.\n",
      "  DeprecationWarning)\n"
     ]
    },
    {
     "data": {
      "text/plain": [
       "{'n_neighbors': 3, 'weights': 'uniform'}"
      ]
     },
     "execution_count": 18,
     "metadata": {},
     "output_type": "execute_result"
    }
   ],
   "source": [
    "knn_G=KNeighborsClassifier()\n",
    "params={'n_neighbors':np.arange(1,50),'weights':['uniform','distance']}\n",
    "GS=GridSearchCV(knn_G,params,cv=5,scoring='recall')\n",
    "GS.fit(XSC,Y)\n",
    "\n",
    "GS.best_params_"
   ]
  },
  {
   "cell_type": "markdown",
   "metadata": {},
   "source": [
    "### Applying the best parameters to the algarithms and comaparing"
   ]
  },
  {
   "cell_type": "code",
   "execution_count": 19,
   "metadata": {},
   "outputs": [
    {
     "name": "stdout",
     "output_type": "stream",
     "text": [
      "72.72727272727273\n",
      "[[131  26]\n",
      " [ 37  37]]\n"
     ]
    }
   ],
   "source": [
    "x_train,x_test,y_train,y_test=train_test_split(XSC,Y,test_size=0.3,random_state=0)\n",
    "KNN=KNeighborsClassifier(n_neighbors=3,weights='uniform')\n",
    "KNN.fit(x_train,y_train)\n",
    "y_pred_knn=KNN.predict(x_test)\n",
    "acc=accuracy_score(y_test,y_pred_knn)*100\n",
    "cm=confusion_matrix(y_test,y_pred_knn)\n",
    "\n",
    "print(acc)\n",
    "print(cm)"
   ]
  },
  {
   "cell_type": "code",
   "execution_count": 25,
   "metadata": {},
   "outputs": [
    {
     "name": "stdout",
     "output_type": "stream",
     "text": [
      "[[130  27]\n",
      " [ 38  36]]\n"
     ]
    }
   ],
   "source": [
    "x_train,x_test,y_train,y_test=train_test_split(XSC,Y,test_size=0.3,random_state=0)\n",
    "KNN=KNeighborsClassifier(n_neighbors=1,weights='uniform')\n",
    "KNN.fit(x_train,y_train)\n",
    "y_pred_knn=KNN.predict(x_test)\n",
    "acc=accuracy_score(y_test,y_pred_knn)*100\n",
    "cm=confusion_matrix(y_test,y_pred_knn)\n",
    "\n",
    "\n",
    "print(cm)"
   ]
  },
  {
   "cell_type": "code",
   "execution_count": 26,
   "metadata": {},
   "outputs": [
    {
     "name": "stdout",
     "output_type": "stream",
     "text": [
      "77.05627705627705\n",
      "[[134  23]\n",
      " [ 30  44]]\n"
     ]
    }
   ],
   "source": [
    "x_train,x_test,y_train,y_test=train_test_split(XSC,Y,test_size=0.3,random_state=0)\n",
    "KNN=KNeighborsClassifier(n_neighbors=5,weights='uniform')\n",
    "KNN.fit(x_train,y_train)\n",
    "y_pred_knn=KNN.predict(x_test)\n",
    "acc=accuracy_score(y_test,y_pred_knn)*100\n",
    "cm=confusion_matrix(y_test,y_pred_knn)\n",
    "\n",
    "print(acc)\n",
    "print(cm)"
   ]
  },
  {
   "cell_type": "code",
   "execution_count": 27,
   "metadata": {},
   "outputs": [
    {
     "name": "stdout",
     "output_type": "stream",
     "text": [
      "77.05627705627705\n",
      "[[137  20]\n",
      " [ 33  41]]\n",
      "55.4054054054054\n"
     ]
    }
   ],
   "source": [
    "x_train,x_test,y_train,y_test=train_test_split(XSC,Y,test_size=0.3,random_state=0)\n",
    "KNN=KNeighborsClassifier(n_neighbors=12,weights='distance')\n",
    "KNN.fit(x_train,y_train)\n",
    "y_pred_knn=KNN.predict(x_test)\n",
    "acc=accuracy_score(y_test,y_pred_knn)*100\n",
    "cm=confusion_matrix(y_test,y_pred_knn)\n",
    "rs=recall_score(y_test,y_pred_knn)*100\n",
    "print(acc)\n",
    "print(cm)\n",
    "print(rs)"
   ]
  },
  {
   "cell_type": "code",
   "execution_count": 28,
   "metadata": {},
   "outputs": [],
   "source": [
    "from sklearn.metrics import recall_score"
   ]
  },
  {
   "cell_type": "code",
   "execution_count": 45,
   "metadata": {},
   "outputs": [
    {
     "name": "stdout",
     "output_type": "stream",
     "text": [
      "[55.4054054054054, 57.647058823529406, 42.10526315789473]\n"
     ]
    }
   ],
   "source": [
    "rs_12_weighted=[]\n",
    "for i in range(0,3):\n",
    "    x_train,x_test,y_train,y_test=train_test_split(XSC,Y,test_size=0.3,random_state=i)\n",
    "    KNN=KNeighborsClassifier(n_neighbors=12,weights='distance')\n",
    "    KNN.fit(x_train,y_train)\n",
    "    y_pred_knn=KNN.predict(x_test)\n",
    "    acc=accuracy_score(y_test,y_pred_knn)*100\n",
    "    cm=confusion_matrix(y_test,y_pred_knn)\n",
    "    rs=recall_score(y_test,y_pred_knn)*100\n",
    "    rs_12_weighted.append(rs)\n",
    "#    print(acc)\n",
    " #   print(cm)\n",
    "print(rs_12_weighted)\n",
    "    "
   ]
  },
  {
   "cell_type": "code",
   "execution_count": 31,
   "metadata": {},
   "outputs": [
    {
     "name": "stdout",
     "output_type": "stream",
     "text": [
      "[50.0, 52.94117647058824, 51.31578947368421]\n"
     ]
    }
   ],
   "source": [
    "rs_3_uniform=[]\n",
    "for i in range(0,3):\n",
    "    x_train,x_test,y_train,y_test=train_test_split(XSC,Y,test_size=0.3,random_state=i)\n",
    "    KNN=KNeighborsClassifier(n_neighbors=3,weights='uniform')\n",
    "    KNN.fit(x_train,y_train)\n",
    "    y_pred_knn=KNN.predict(x_test)\n",
    "    acc=accuracy_score(y_test,y_pred_knn)*100\n",
    "    cm=confusion_matrix(y_test,y_pred_knn)\n",
    "    rs=recall_score(y_test,y_pred_knn)*100\n",
    "    rs_3_uniform.append(rs)\n",
    "#    print(acc)\n",
    " #   print(cm)\n",
    "print(rs_3_uniform)\n",
    "    "
   ]
  },
  {
   "cell_type": "code",
   "execution_count": 32,
   "metadata": {},
   "outputs": [],
   "source": [
    "rs_5_uniform=[]\n",
    "for i in range(0,3):\n",
    "    x_train,x_test,y_train,y_test=train_test_split(XSC,Y,test_size=0.3,random_state=i)\n",
    "    KNN=KNeighborsClassifier(n_neighbors=5,weights='uniform')\n",
    "    KNN.fit(x_train,y_train)\n",
    "    y_pred_knn=KNN.predict(x_test)\n",
    "    acc=accuracy_score(y_test,y_pred_knn)*100\n",
    "    cm=confusion_matrix(y_test,y_pred_knn)\n",
    "    rs=recall_score(y_test,y_pred_knn)*100\n",
    "    rs_5_uniform.append(rs)\n",
    "#    print(acc)\n",
    " #   print(cm)\n",
    "\n",
    "    "
   ]
  },
  {
   "cell_type": "code",
   "execution_count": 37,
   "metadata": {},
   "outputs": [
    {
     "name": "stdout",
     "output_type": "stream",
     "text": [
      "[52.702702702702695, 58.82352941176471, 42.10526315789473]\n"
     ]
    }
   ],
   "source": [
    "rs_7_uniform=[]\n",
    "for i in range(0,3):\n",
    "    x_train,x_test,y_train,y_test=train_test_split(XSC,Y,test_size=0.3,random_state=i)\n",
    "    KNN=KNeighborsClassifier(n_neighbors=7,weights='uniform')\n",
    "    KNN.fit(x_train,y_train)\n",
    "    y_pred_knn=KNN.predict(x_test)\n",
    "    acc=accuracy_score(y_test,y_pred_knn)*100\n",
    "    cm=confusion_matrix(y_test,y_pred_knn)\n",
    "    rs=recall_score(y_test,y_pred_knn)*100\n",
    "    rs_7_uniform.append(rs)\n",
    "#    print(acc)\n",
    " #   print(cm)\n",
    "print(rs_7_uniform)\n",
    "    "
   ]
  },
  {
   "cell_type": "code",
   "execution_count": 40,
   "metadata": {},
   "outputs": [
    {
     "name": "stdout",
     "output_type": "stream",
     "text": [
      "[54.054054054054056, 58.82352941176471, 42.10526315789473]\n"
     ]
    }
   ],
   "source": [
    "rs_9_uniform=[]\n",
    "for i in range(0,3):\n",
    "    x_train,x_test,y_train,y_test=train_test_split(XSC,Y,test_size=0.3,random_state=i)\n",
    "    KNN=KNeighborsClassifier(n_neighbors=9,weights='uniform')\n",
    "    KNN.fit(x_train,y_train)\n",
    "    y_pred_knn=KNN.predict(x_test)\n",
    "    acc=accuracy_score(y_test,y_pred_knn)*100\n",
    "    cm=confusion_matrix(y_test,y_pred_knn)\n",
    "    rs=recall_score(y_test,y_pred_knn)*100\n",
    "    rs_9_uniform.append(rs)\n",
    "#    print(acc)\n",
    " #   print(cm)\n",
    "print(rs_9_uniform)\n",
    "    "
   ]
  },
  {
   "cell_type": "code",
   "execution_count": 42,
   "metadata": {},
   "outputs": [
    {
     "name": "stdout",
     "output_type": "stream",
     "text": [
      "[45.94594594594595, 50.588235294117645, 35.526315789473685]\n"
     ]
    }
   ],
   "source": [
    "rs_12_uniform=[]\n",
    "for i in range(0,3):\n",
    "    x_train,x_test,y_train,y_test=train_test_split(XSC,Y,test_size=0.3,random_state=i)\n",
    "    KNN=KNeighborsClassifier(n_neighbors=12,weights='uniform')\n",
    "    KNN.fit(x_train,y_train)\n",
    "    y_pred_knn=KNN.predict(x_test)\n",
    "    acc=accuracy_score(y_test,y_pred_knn)*100\n",
    "    cm=confusion_matrix(y_test,y_pred_knn)\n",
    "    rs=recall_score(y_test,y_pred_knn)*100\n",
    "    rs_12_uniform.append(rs)\n",
    "#    print(acc)\n",
    " #   print(cm)\n",
    "print(rs_12_uniform)\n",
    "    "
   ]
  },
  {
   "cell_type": "code",
   "execution_count": 53,
   "metadata": {},
   "outputs": [
    {
     "name": "stdout",
     "output_type": "stream",
     "text": [
      "n_neigbhors= 3 and uniform\n",
      "Mean 51.41898864809082   and variance 2.1706173099841264\n",
      "n_neigbhors= 5 and uniform\n",
      "Mean 57.66295707472178  and variance 48.181811288516585\n",
      "n_neigbhors= 7 and uniform\n",
      "Mean 51.510798724421015 and variance 55.02216482916057\n",
      "n_neigbhors= 7 and uniform\n",
      "Mean 51.66094887457117 and variance 74.1703209338728\n",
      "n_neigbhors= 12 and uniform\n",
      "Mean 44.02016567651242 and variance 59.49682702569814\n",
      "n_neigbhors= 12 and weighted\n",
      "51.71924246227652  and variance 70.57770106055766\n"
     ]
    }
   ],
   "source": [
    "print(\"n_neigbhors= 3 and uniform\")\n",
    "print(\"Mean\",np.mean(rs_3_uniform),\"  and variance\",np.var(rs_3_uniform,ddof=1))\n",
    "print(\"n_neigbhors= 5 and uniform\")\n",
    "print(\"Mean\",np.mean(rs_5_uniform),\" and variance\",np.var(rs_5_uniform,ddof=1))\n",
    "print(\"n_neigbhors= 7 and uniform\")\n",
    "print(\"Mean\",np.mean(rs_7_uniform),\"and variance\",np.var(rs_7_uniform,ddof=1))\n",
    "print(\"n_neigbhors= 7 and uniform\")\n",
    "print(\"Mean\",np.mean(rs_9_uniform),\"and variance\",np.var(rs_9_uniform,ddof=1))\n",
    "print(\"n_neigbhors= 12 and uniform\")\n",
    "print(\"Mean\",np.mean(rs_12_uniform),\"and variance\",np.var(rs_12_uniform,ddof=1))\n",
    "print(\"n_neigbhors= 12 and weighted\")\n",
    "print(np.mean(rs_12_weighted),\" and variance\",np.var(rs_12_weighted,ddof=1))\n",
    "print(\"n_neigbhors= 12 and weighted\")\n",
    "print(np.mean(rs_12_weighted),\" and variance\",np.var(rs_12_weighted,ddof=1))"
   ]
  },
  {
   "cell_type": "code",
   "execution_count": null,
   "metadata": {},
   "outputs": [],
   "source": []
  },
  {
   "cell_type": "code",
   "execution_count": null,
   "metadata": {},
   "outputs": [],
   "source": []
  },
  {
   "cell_type": "code",
   "execution_count": 62,
   "metadata": {},
   "outputs": [
    {
     "name": "stdout",
     "output_type": "stream",
     "text": [
      "[55.4054054054054, 62.35294117647059, 51.31578947368421]\n"
     ]
    }
   ],
   "source": [
    "RF=RandomForestClassifier(n_estimators=43,criterion='entropy',random_state=0)\n",
    "RF_43=[]\n",
    "for i in range(0,3):\n",
    "    x_train,x_test,y_train,y_test=train_test_split(XSC,Y,test_size=0.3,random_state=i)\n",
    "    RF.fit(x_train,y_train)\n",
    "    y_pred_RF=RF.predict(x_test)\n",
    "    acc=accuracy_score(y_test,y_pred_RF)*100\n",
    "    cm=confusion_matrix(y_test,y_pred_RF)\n",
    "    rs=recall_score(y_test,y_pred_RF)*100\n",
    "    RF_43.append(rs)\n",
    "#    print(acc)\n",
    " #   print(cm)\n",
    "\n",
    "print(RF_43)    "
   ]
  },
  {
   "cell_type": "code",
   "execution_count": 63,
   "metadata": {},
   "outputs": [
    {
     "name": "stdout",
     "output_type": "stream",
     "text": [
      "[56.75675675675676, 62.35294117647059, 52.63157894736842]\n"
     ]
    }
   ],
   "source": [
    "RF=RandomForestClassifier(n_estimators=51,criterion='entropy',random_state=0)\n",
    "RF_51=[]\n",
    "for i in range(0,3):\n",
    "    x_train,x_test,y_train,y_test=train_test_split(XSC,Y,test_size=0.3,random_state=i)\n",
    "    RF.fit(x_train,y_train)\n",
    "    y_pred_RF=RF.predict(x_test)\n",
    "    acc=accuracy_score(y_test,y_pred_RF)*100\n",
    "    cm=confusion_matrix(y_test,y_pred_RF)\n",
    "    rs=recall_score(y_test,y_pred_RF)*100\n",
    "    RF_51.append(rs)\n",
    "#    print(acc)\n",
    " #   print(cm)\n",
    "\n",
    "print(RF_51)    "
   ]
  },
  {
   "cell_type": "code",
   "execution_count": 64,
   "metadata": {},
   "outputs": [
    {
     "data": {
      "text/plain": [
       "15.871028400881343"
      ]
     },
     "execution_count": 64,
     "metadata": {},
     "output_type": "execute_result"
    }
   ],
   "source": [
    "np.var(RF_51)"
   ]
  },
  {
   "cell_type": "code",
   "execution_count": 65,
   "metadata": {},
   "outputs": [
    {
     "data": {
      "text/plain": [
       "20.756881052170915"
      ]
     },
     "execution_count": 65,
     "metadata": {},
     "output_type": "execute_result"
    }
   ],
   "source": []
  },
  {
   "cell_type": "code",
   "execution_count": 77,
   "metadata": {},
   "outputs": [
    {
     "name": "stdout",
     "output_type": "stream",
     "text": [
      "[[136  21]\n",
      " [ 39  35]]\n",
      "[[133  13]\n",
      " [ 46  39]]\n",
      "[[138  17]\n",
      " [ 45  31]]\n",
      "[47.2972972972973, 45.88235294117647, 40.78947368421053]\n",
      "7.810139426222435\n"
     ]
    }
   ],
   "source": [
    "RF=RandomForestClassifier(n_estimators=10,criterion='entropy',random_state=0)\n",
    "RF_10=[]\n",
    "cm_10=[]\n",
    "for i in range(0,3):\n",
    "    x_train,x_test,y_train,y_test=train_test_split(XSC,Y,test_size=0.3,random_state=i)\n",
    "    RF.fit(x_train,y_train)\n",
    "    y_pred_RF=RF.predict(x_test)\n",
    "    acc=accuracy_score(y_test,y_pred_RF)*100\n",
    "    cm=confusion_matrix(y_test,y_pred_RF)\n",
    "    rs=recall_score(y_test,y_pred_RF)*100\n",
    "    RF_10.append(rs)\n",
    "    cm_10.append(cm)\n",
    "#   print(acc)\n",
    "    print(cm)\n",
    "#print(cm_10)\n",
    "print(RF_10) \n",
    "print(np.var(RF_10))"
   ]
  },
  {
   "cell_type": "raw",
   "metadata": {},
   "source": [
    "from sklearn.metrics import auc,roc_auc_score,roc_curve\n",
    "from sklearn.model_selection import KFold"
   ]
  },
  {
   "cell_type": "code",
   "execution_count": 116,
   "metadata": {},
   "outputs": [],
   "source": [
    "LR1=LogisticRegression()\n",
    "NB1=GaussianNB()\n",
    "KNN1=KNeighborsClassifier(n_neighbors=12,weights='uniform')\n",
    "RF1=RandomForestClassifier(n_estimators=43,criterion='entropy',random_state=0)"
   ]
  },
  {
   "cell_type": "code",
   "execution_count": 117,
   "metadata": {},
   "outputs": [
    {
     "name": "stderr",
     "output_type": "stream",
     "text": [
      "C:\\Users\\Gowtham\\Anaconda3\\lib\\site-packages\\sklearn\\linear_model\\logistic.py:433: FutureWarning: Default solver will be changed to 'lbfgs' in 0.22. Specify a solver to silence this warning.\n",
      "  FutureWarning)\n",
      "C:\\Users\\Gowtham\\Anaconda3\\lib\\site-packages\\sklearn\\linear_model\\logistic.py:433: FutureWarning: Default solver will be changed to 'lbfgs' in 0.22. Specify a solver to silence this warning.\n",
      "  FutureWarning)\n",
      "C:\\Users\\Gowtham\\Anaconda3\\lib\\site-packages\\sklearn\\linear_model\\logistic.py:433: FutureWarning: Default solver will be changed to 'lbfgs' in 0.22. Specify a solver to silence this warning.\n",
      "  FutureWarning)\n",
      "C:\\Users\\Gowtham\\Anaconda3\\lib\\site-packages\\sklearn\\linear_model\\logistic.py:433: FutureWarning: Default solver will be changed to 'lbfgs' in 0.22. Specify a solver to silence this warning.\n",
      "  FutureWarning)\n",
      "C:\\Users\\Gowtham\\Anaconda3\\lib\\site-packages\\sklearn\\linear_model\\logistic.py:433: FutureWarning: Default solver will be changed to 'lbfgs' in 0.22. Specify a solver to silence this warning.\n",
      "  FutureWarning)\n"
     ]
    },
    {
     "name": "stdout",
     "output_type": "stream",
     "text": [
      "AUC SCORE : 72.92(+/- 0.00054)[LR]\n",
      "AUC SCORE : 71.27(+/- 0.00237)[NB]\n",
      "AUC SCORE : 71.67(+/- 0.00219)[RF]\n",
      "AUC SCORE : 67.67(+/- 0.00119)[KNN]\n"
     ]
    }
   ],
   "source": [
    "kf=KFold(n_splits=5,shuffle=True,random_state=0)\n",
    "for model,name in zip([LR1,NB1,RF1,KNN1],['LR','NB','RF','KNN']):\n",
    "    roc_auc=[]\n",
    "    for train,test, in kf.split(XSC,Y):\n",
    "        xtrain,xtest=XSC[train,:],XSC[test,:]\n",
    "        ytrain,ytest=Y.iloc[train],Y.iloc[test]\n",
    "        model.fit(xtrain,ytrain)\n",
    "        y_pred=model.predict(xtest)\n",
    "        fpr,tpr,_=roc_curve(ytest,y_pred)\n",
    "        roc_auc.append(auc(fpr,tpr))\n",
    "    print(\"AUC SCORE : %0.02F(+/- %0.5F)[%s]\"%(np.mean(roc_auc)*100,np.var(roc_auc,ddof=1),name))"
   ]
  },
  {
   "cell_type": "code",
   "execution_count": null,
   "metadata": {},
   "outputs": [],
   "source": []
  },
  {
   "cell_type": "code",
   "execution_count": null,
   "metadata": {},
   "outputs": [],
   "source": []
  },
  {
   "cell_type": "code",
   "execution_count": null,
   "metadata": {},
   "outputs": [],
   "source": []
  }
 ],
 "metadata": {
  "colab": {
   "collapsed_sections": [],
   "name": "Diabetes_Random_Forest_with_DT_comparison.ipynb",
   "provenance": [],
   "version": "0.3.2"
  },
  "kernelspec": {
   "display_name": "Python 3",
   "language": "python",
   "name": "python3"
  },
  "language_info": {
   "codemirror_mode": {
    "name": "ipython",
    "version": 3
   },
   "file_extension": ".py",
   "mimetype": "text/x-python",
   "name": "python",
   "nbconvert_exporter": "python",
   "pygments_lexer": "ipython3",
   "version": "3.7.1"
  }
 },
 "nbformat": 4,
 "nbformat_minor": 1
}
